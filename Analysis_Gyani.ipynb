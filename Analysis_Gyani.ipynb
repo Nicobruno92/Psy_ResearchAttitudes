{
  "nbformat": 4,
  "nbformat_minor": 0,
  "metadata": {
    "colab": {
      "provenance": [],
      "toc_visible": true
    },
    "kernelspec": {
      "name": "python3",
      "display_name": "Python 3"
    },
    "language_info": {
      "name": "python"
    }
  },
  "cells": [
    {
      "cell_type": "markdown",
      "source": [
        "# Analysis Gyani"
      ],
      "metadata": {
        "id": "AWeApU4VssQc"
      }
    },
    {
      "cell_type": "code",
      "execution_count": null,
      "metadata": {
        "id": "F37yUBwEsrxp"
      },
      "outputs": [],
      "source": [
        "import pandas as pd\n",
        "import numpy as np\n",
        "import matplotlib.pyplot as plt\n",
        "\n",
        "plt.style.use('ggplot')"
      ]
    },
    {
      "cell_type": "code",
      "source": [
        "sheet_id = '1UWJfqZjEp5cO8ViZvGUiIKKqQEMa4JJsUH0G1LHbCik'\n",
        "\n",
        "df = pd.read_csv(f'https://docs.google.com/spreadsheets/d/{sheet_id}/export?format=csv')\n",
        "df.head()"
      ],
      "metadata": {
        "colab": {
          "base_uri": "https://localhost:8080/",
          "height": 733
        },
        "id": "b13pZpo0swO8",
        "outputId": "8a3aed4c-1b3d-4dab-ef01-ea02c77fca1e"
      },
      "execution_count": null,
      "outputs": [
        {
          "output_type": "execute_result",
          "data": {
            "text/plain": [
              "            Timestamp ¿Desea participar de la investigación?  Edad     Género  \\\n",
              "0  2/24/2023 17:49:30                                     Sí    41   Femenino   \n",
              "1  2/24/2023 17:50:27                                     Sí    26   Femenino   \n",
              "2  2/24/2023 17:52:36                                     Sí    27   Femenino   \n",
              "3  2/24/2023 17:58:18                                     Sí    30  Masculino   \n",
              "4  2/24/2023 18:05:06                                     Sí    26  Masculino   \n",
              "\n",
              "   Años de Experiencia en la Clínica  Nivel de Educación MÁXIMO Adquirido  \\\n",
              "0                                 1.2               Licenciatura de Grado   \n",
              "1                                 0.2               Licenciatura de Grado   \n",
              "2                                 1.0          Carrera de Especialización   \n",
              "3                                 1.3          Carrera de Especialización   \n",
              "4                                 2.0               Licenciatura de Grado   \n",
              "\n",
              "  En caso de haber respondido Terciario u otro, ¿cuál fue su título?  \\\n",
              "0                                                NaN                   \n",
              "1                                                NaN                   \n",
              "2                                                NaN                   \n",
              "3                                                NaN                   \n",
              "4                                                NaN                   \n",
              "\n",
              "  ¿Cuál es tu título?  \\\n",
              "0  Lic. en Psicología   \n",
              "1  Lic. en Psicología   \n",
              "2  Lic. en Psicología   \n",
              "3  Lic. en Psicología   \n",
              "4  Lic. en Psicología   \n",
              "\n",
              "  En caso de haber respondido \"no tengo título universitario\", ¿cuál fue su título máximo adquirido?  \\\n",
              "0                                                NaN                                                   \n",
              "1                                                NaN                                                   \n",
              "2                                                NaN                                                   \n",
              "3                                                NaN                                                   \n",
              "4                                                NaN                                                   \n",
              "\n",
              "   Número de Horas por Semana Atendiendo Pacientes (Aproximado)  ...  \\\n",
              "0                                                 12             ...   \n",
              "1                                                 13             ...   \n",
              "2                                                 30             ...   \n",
              "3                                                 35             ...   \n",
              "4                                                 46             ...   \n",
              "\n",
              "  ¿Usted ha tenido formación universitaria pública o privada?  \\\n",
              "0                                            Privada            \n",
              "1                                            Pública            \n",
              "2                                            Pública            \n",
              "3                                            Pública            \n",
              "4                                            Pública            \n",
              "\n",
              "  ¿Le parecieron claras todas las preguntas?.1  \\\n",
              "0                                           No   \n",
              "1                                           Sí   \n",
              "2                                           Sí   \n",
              "3                                           Sí   \n",
              "4                                           Sí   \n",
              "\n",
              "   En el caso de que haya respondido NO, ¿cuál/es no le parecieron CLARAS y por qué?.1  \\\n",
              "0                      Varias, no podria especificar                                     \n",
              "1                                                NaN                                     \n",
              "2                                                NaN                                     \n",
              "3                                                NaN                                     \n",
              "4                                                NaN                                     \n",
              "\n",
              "  ¿Cree que alguna pregunta es inapropiada?.1  \\\n",
              "0                                          No   \n",
              "1                                          No   \n",
              "2                                          No   \n",
              "3                                          No   \n",
              "4                                          No   \n",
              "\n",
              "  En el caso de que haya respondido SÍ, ¿cuál/es no le parecieron APROPIADAS y por qué?  \\\n",
              "0                                                NaN                                      \n",
              "1                                                NaN                                      \n",
              "2                                                NaN                                      \n",
              "3                                                NaN                                      \n",
              "4                                                NaN                                      \n",
              "\n",
              "  ¿Considera que se podrían hacer otras preguntas que aporten información valiosa a lo que se intenta estudiar?.1  \\\n",
              "0                                                 No                                                                \n",
              "1                                                 No                                                                \n",
              "2                                                 No                                                                \n",
              "3                                                 No                                                                \n",
              "4                                                 No                                                                \n",
              "\n",
              "  En el caso de que haya respondido SÍ, ¿cuál/es?.1  \\\n",
              "0                                               NaN   \n",
              "1                                               NaN   \n",
              "2                                               NaN   \n",
              "3                                               NaN   \n",
              "4                                               NaN   \n",
              "\n",
              "   ¿Le gustaría agregar otro comentario?.1  \\\n",
              "0                                      NaN   \n",
              "1                                      NaN   \n",
              "2                                      NaN   \n",
              "3                                      NaN   \n",
              "4                                      NaN   \n",
              "\n",
              "                  Provincia de Residencia  \\\n",
              "0               Provincia de Buenos Aires   \n",
              "1               Provincia de Buenos Aires   \n",
              "2  Ciudad Autónoma de Buenos Aires (CABA)   \n",
              "3               Provincia de Buenos Aires   \n",
              "4               Provincia de Buenos Aires   \n",
              "\n",
              "   Considero fundamental el uso del consentimiento informado y lo uso siempre al tomar pacientes nuevos\\n\\n0 = No sabe/No contesta, 1 = Muy en desacuerdo , 4 = Ni de acuerdo ni en desacuerdo , 7 = Muy de acuerdo  \n",
              "0                                                NaN                                                                                                                                                                 \n",
              "1                                                NaN                                                                                                                                                                 \n",
              "2                                                NaN                                                                                                                                                                 \n",
              "3                                                NaN                                                                                                                                                                 \n",
              "4                                                NaN                                                                                                                                                                 \n",
              "\n",
              "[5 rows x 73 columns]"
            ],
            "text/html": [
              "\n",
              "  <div id=\"df-dbb67efd-bd18-479c-a351-0a1a067b55c5\">\n",
              "    <div class=\"colab-df-container\">\n",
              "      <div>\n",
              "<style scoped>\n",
              "    .dataframe tbody tr th:only-of-type {\n",
              "        vertical-align: middle;\n",
              "    }\n",
              "\n",
              "    .dataframe tbody tr th {\n",
              "        vertical-align: top;\n",
              "    }\n",
              "\n",
              "    .dataframe thead th {\n",
              "        text-align: right;\n",
              "    }\n",
              "</style>\n",
              "<table border=\"1\" class=\"dataframe\">\n",
              "  <thead>\n",
              "    <tr style=\"text-align: right;\">\n",
              "      <th></th>\n",
              "      <th>Timestamp</th>\n",
              "      <th>¿Desea participar de la investigación?</th>\n",
              "      <th>Edad</th>\n",
              "      <th>Género</th>\n",
              "      <th>Años de Experiencia en la Clínica</th>\n",
              "      <th>Nivel de Educación MÁXIMO Adquirido</th>\n",
              "      <th>En caso de haber respondido Terciario u otro, ¿cuál fue su título?</th>\n",
              "      <th>¿Cuál es tu título?</th>\n",
              "      <th>En caso de haber respondido \"no tengo título universitario\", ¿cuál fue su título máximo adquirido?</th>\n",
              "      <th>Número de Horas por Semana Atendiendo Pacientes (Aproximado)</th>\n",
              "      <th>...</th>\n",
              "      <th>¿Usted ha tenido formación universitaria pública o privada?</th>\n",
              "      <th>¿Le parecieron claras todas las preguntas?.1</th>\n",
              "      <th>En el caso de que haya respondido NO, ¿cuál/es no le parecieron CLARAS y por qué?.1</th>\n",
              "      <th>¿Cree que alguna pregunta es inapropiada?.1</th>\n",
              "      <th>En el caso de que haya respondido SÍ, ¿cuál/es no le parecieron APROPIADAS y por qué?</th>\n",
              "      <th>¿Considera que se podrían hacer otras preguntas que aporten información valiosa a lo que se intenta estudiar?.1</th>\n",
              "      <th>En el caso de que haya respondido SÍ, ¿cuál/es?.1</th>\n",
              "      <th>¿Le gustaría agregar otro comentario?.1</th>\n",
              "      <th>Provincia de Residencia</th>\n",
              "      <th>Considero fundamental el uso del consentimiento informado y lo uso siempre al tomar pacientes nuevos\\n\\n0 = No sabe/No contesta, 1 = Muy en desacuerdo , 4 = Ni de acuerdo ni en desacuerdo , 7 = Muy de acuerdo</th>\n",
              "    </tr>\n",
              "  </thead>\n",
              "  <tbody>\n",
              "    <tr>\n",
              "      <th>0</th>\n",
              "      <td>2/24/2023 17:49:30</td>\n",
              "      <td>Sí</td>\n",
              "      <td>41</td>\n",
              "      <td>Femenino</td>\n",
              "      <td>1.2</td>\n",
              "      <td>Licenciatura de Grado</td>\n",
              "      <td>NaN</td>\n",
              "      <td>Lic. en Psicología</td>\n",
              "      <td>NaN</td>\n",
              "      <td>12</td>\n",
              "      <td>...</td>\n",
              "      <td>Privada</td>\n",
              "      <td>No</td>\n",
              "      <td>Varias, no podria especificar</td>\n",
              "      <td>No</td>\n",
              "      <td>NaN</td>\n",
              "      <td>No</td>\n",
              "      <td>NaN</td>\n",
              "      <td>NaN</td>\n",
              "      <td>Provincia de Buenos Aires</td>\n",
              "      <td>NaN</td>\n",
              "    </tr>\n",
              "    <tr>\n",
              "      <th>1</th>\n",
              "      <td>2/24/2023 17:50:27</td>\n",
              "      <td>Sí</td>\n",
              "      <td>26</td>\n",
              "      <td>Femenino</td>\n",
              "      <td>0.2</td>\n",
              "      <td>Licenciatura de Grado</td>\n",
              "      <td>NaN</td>\n",
              "      <td>Lic. en Psicología</td>\n",
              "      <td>NaN</td>\n",
              "      <td>13</td>\n",
              "      <td>...</td>\n",
              "      <td>Pública</td>\n",
              "      <td>Sí</td>\n",
              "      <td>NaN</td>\n",
              "      <td>No</td>\n",
              "      <td>NaN</td>\n",
              "      <td>No</td>\n",
              "      <td>NaN</td>\n",
              "      <td>NaN</td>\n",
              "      <td>Provincia de Buenos Aires</td>\n",
              "      <td>NaN</td>\n",
              "    </tr>\n",
              "    <tr>\n",
              "      <th>2</th>\n",
              "      <td>2/24/2023 17:52:36</td>\n",
              "      <td>Sí</td>\n",
              "      <td>27</td>\n",
              "      <td>Femenino</td>\n",
              "      <td>1.0</td>\n",
              "      <td>Carrera de Especialización</td>\n",
              "      <td>NaN</td>\n",
              "      <td>Lic. en Psicología</td>\n",
              "      <td>NaN</td>\n",
              "      <td>30</td>\n",
              "      <td>...</td>\n",
              "      <td>Pública</td>\n",
              "      <td>Sí</td>\n",
              "      <td>NaN</td>\n",
              "      <td>No</td>\n",
              "      <td>NaN</td>\n",
              "      <td>No</td>\n",
              "      <td>NaN</td>\n",
              "      <td>NaN</td>\n",
              "      <td>Ciudad Autónoma de Buenos Aires (CABA)</td>\n",
              "      <td>NaN</td>\n",
              "    </tr>\n",
              "    <tr>\n",
              "      <th>3</th>\n",
              "      <td>2/24/2023 17:58:18</td>\n",
              "      <td>Sí</td>\n",
              "      <td>30</td>\n",
              "      <td>Masculino</td>\n",
              "      <td>1.3</td>\n",
              "      <td>Carrera de Especialización</td>\n",
              "      <td>NaN</td>\n",
              "      <td>Lic. en Psicología</td>\n",
              "      <td>NaN</td>\n",
              "      <td>35</td>\n",
              "      <td>...</td>\n",
              "      <td>Pública</td>\n",
              "      <td>Sí</td>\n",
              "      <td>NaN</td>\n",
              "      <td>No</td>\n",
              "      <td>NaN</td>\n",
              "      <td>No</td>\n",
              "      <td>NaN</td>\n",
              "      <td>NaN</td>\n",
              "      <td>Provincia de Buenos Aires</td>\n",
              "      <td>NaN</td>\n",
              "    </tr>\n",
              "    <tr>\n",
              "      <th>4</th>\n",
              "      <td>2/24/2023 18:05:06</td>\n",
              "      <td>Sí</td>\n",
              "      <td>26</td>\n",
              "      <td>Masculino</td>\n",
              "      <td>2.0</td>\n",
              "      <td>Licenciatura de Grado</td>\n",
              "      <td>NaN</td>\n",
              "      <td>Lic. en Psicología</td>\n",
              "      <td>NaN</td>\n",
              "      <td>46</td>\n",
              "      <td>...</td>\n",
              "      <td>Pública</td>\n",
              "      <td>Sí</td>\n",
              "      <td>NaN</td>\n",
              "      <td>No</td>\n",
              "      <td>NaN</td>\n",
              "      <td>No</td>\n",
              "      <td>NaN</td>\n",
              "      <td>NaN</td>\n",
              "      <td>Provincia de Buenos Aires</td>\n",
              "      <td>NaN</td>\n",
              "    </tr>\n",
              "  </tbody>\n",
              "</table>\n",
              "<p>5 rows × 73 columns</p>\n",
              "</div>\n",
              "      <button class=\"colab-df-convert\" onclick=\"convertToInteractive('df-dbb67efd-bd18-479c-a351-0a1a067b55c5')\"\n",
              "              title=\"Convert this dataframe to an interactive table.\"\n",
              "              style=\"display:none;\">\n",
              "        \n",
              "  <svg xmlns=\"http://www.w3.org/2000/svg\" height=\"24px\"viewBox=\"0 0 24 24\"\n",
              "       width=\"24px\">\n",
              "    <path d=\"M0 0h24v24H0V0z\" fill=\"none\"/>\n",
              "    <path d=\"M18.56 5.44l.94 2.06.94-2.06 2.06-.94-2.06-.94-.94-2.06-.94 2.06-2.06.94zm-11 1L8.5 8.5l.94-2.06 2.06-.94-2.06-.94L8.5 2.5l-.94 2.06-2.06.94zm10 10l.94 2.06.94-2.06 2.06-.94-2.06-.94-.94-2.06-.94 2.06-2.06.94z\"/><path d=\"M17.41 7.96l-1.37-1.37c-.4-.4-.92-.59-1.43-.59-.52 0-1.04.2-1.43.59L10.3 9.45l-7.72 7.72c-.78.78-.78 2.05 0 2.83L4 21.41c.39.39.9.59 1.41.59.51 0 1.02-.2 1.41-.59l7.78-7.78 2.81-2.81c.8-.78.8-2.07 0-2.86zM5.41 20L4 18.59l7.72-7.72 1.47 1.35L5.41 20z\"/>\n",
              "  </svg>\n",
              "      </button>\n",
              "      \n",
              "  <style>\n",
              "    .colab-df-container {\n",
              "      display:flex;\n",
              "      flex-wrap:wrap;\n",
              "      gap: 12px;\n",
              "    }\n",
              "\n",
              "    .colab-df-convert {\n",
              "      background-color: #E8F0FE;\n",
              "      border: none;\n",
              "      border-radius: 50%;\n",
              "      cursor: pointer;\n",
              "      display: none;\n",
              "      fill: #1967D2;\n",
              "      height: 32px;\n",
              "      padding: 0 0 0 0;\n",
              "      width: 32px;\n",
              "    }\n",
              "\n",
              "    .colab-df-convert:hover {\n",
              "      background-color: #E2EBFA;\n",
              "      box-shadow: 0px 1px 2px rgba(60, 64, 67, 0.3), 0px 1px 3px 1px rgba(60, 64, 67, 0.15);\n",
              "      fill: #174EA6;\n",
              "    }\n",
              "\n",
              "    [theme=dark] .colab-df-convert {\n",
              "      background-color: #3B4455;\n",
              "      fill: #D2E3FC;\n",
              "    }\n",
              "\n",
              "    [theme=dark] .colab-df-convert:hover {\n",
              "      background-color: #434B5C;\n",
              "      box-shadow: 0px 1px 3px 1px rgba(0, 0, 0, 0.15);\n",
              "      filter: drop-shadow(0px 1px 2px rgba(0, 0, 0, 0.3));\n",
              "      fill: #FFFFFF;\n",
              "    }\n",
              "  </style>\n",
              "\n",
              "      <script>\n",
              "        const buttonEl =\n",
              "          document.querySelector('#df-dbb67efd-bd18-479c-a351-0a1a067b55c5 button.colab-df-convert');\n",
              "        buttonEl.style.display =\n",
              "          google.colab.kernel.accessAllowed ? 'block' : 'none';\n",
              "\n",
              "        async function convertToInteractive(key) {\n",
              "          const element = document.querySelector('#df-dbb67efd-bd18-479c-a351-0a1a067b55c5');\n",
              "          const dataTable =\n",
              "            await google.colab.kernel.invokeFunction('convertToInteractive',\n",
              "                                                     [key], {});\n",
              "          if (!dataTable) return;\n",
              "\n",
              "          const docLinkHtml = 'Like what you see? Visit the ' +\n",
              "            '<a target=\"_blank\" href=https://colab.research.google.com/notebooks/data_table.ipynb>data table notebook</a>'\n",
              "            + ' to learn more about interactive tables.';\n",
              "          element.innerHTML = '';\n",
              "          dataTable['output_type'] = 'display_data';\n",
              "          await google.colab.output.renderOutput(dataTable, element);\n",
              "          const docLink = document.createElement('div');\n",
              "          docLink.innerHTML = docLinkHtml;\n",
              "          element.appendChild(docLink);\n",
              "        }\n",
              "      </script>\n",
              "    </div>\n",
              "  </div>\n",
              "  "
            ]
          },
          "metadata": {},
          "execution_count": 2
        }
      ]
    },
    {
      "cell_type": "code",
      "source": [
        "# convierto el valor 8 a 0\n",
        "df = df.replace(8,0)"
      ],
      "metadata": {
        "id": "P7_Bvn-XeL4u"
      },
      "execution_count": null,
      "outputs": []
    },
    {
      "cell_type": "code",
      "source": [
        "df.shape"
      ],
      "metadata": {
        "colab": {
          "base_uri": "https://localhost:8080/"
        },
        "id": "JKF47DnPtXSz",
        "outputId": "330f216f-ad30-4124-f568-e6fde7f493ec"
      },
      "execution_count": null,
      "outputs": [
        {
          "output_type": "execute_result",
          "data": {
            "text/plain": [
              "(172, 73)"
            ]
          },
          "metadata": {},
          "execution_count": 4
        }
      ]
    },
    {
      "cell_type": "code",
      "source": [
        "# renombrar todas las columnas\n",
        "df = df.rename(columns = {\n",
        "    '¿Desea participar de la investigación?':'participacion',\n",
        "\n",
        "    # 1 datos demograficos\n",
        "      'Edad': 'edad',\n",
        "       'Género':'genero',\n",
        "       'Años de Experiencia en la Clínica ':'experiencia_clinica',\n",
        "       'Nivel de Educación MÁXIMO Adquirido':'educacion',\n",
        "       'En caso de haber respondido Terciario u otro, ¿cuál fue su título?':'titulo_terciario',\n",
        "       '¿Cuál es tu título?':'titulo',\n",
        "       'En caso de haber respondido \"no tengo título universitario\", ¿cuál fue su título máximo adquirido?':'no_titulo_universitario',\n",
        "       'Número de Horas por Semana Atendiendo Pacientes (Aproximado)':'horas_semana_pacientes_atendidos',\n",
        "       'Contexto de Trabajo': 'contexto_trabajo',\n",
        "\n",
        "       # 1 orientacion teo\n",
        "\n",
        "       'Orientación Teórica':'orientacion_teo',\n",
        "       'Indique qué disciplina realiza:':'marco_teo_terapia_basada_arte',\n",
        "       'Indique qué marco teórico del psicoanálisis sigue usted:':'marco_teo_psa',\n",
        "       'Indique qué marco teórico utiliza usted en la clínica:':'marco_teo_tcc',\n",
        "       'Indique qué marco teórico utiliza en la práctica:':'marco_teo_humanista',\n",
        "       'Indique qué tipo marco teórico utiliza en la práctica:':'marco_teo_eclectico',\n",
        "\n",
        "       # 2 seccion (influencia factores en la orientacion teorico)\n",
        "       'Evidencia Científica':'evidencia_cientifica',\n",
        "       'Experiencia Personal con Consultantes (es decir la propia experiencia ejerciendo)':'experiencia_personal',\n",
        "       'Entrenamiento Práctico en Clínica':'entrenamiento_clinica',\n",
        "       'El tratamiento de Preferencia de los Consultantes ':'tratamiento_preferencia_consultantes',\n",
        "        'Intuición':'intuicion',\n",
        "       'Terapia Personal':'terapia_personal',\n",
        "\n",
        "       # 3 seccion (fuentes para mejorar habilidades y efectividad en la clinica)\n",
        "      'Experiencia Personal con Consultantes':'tratamiento_personal_consultantes',\n",
        "       'Investigación Empírica con Ensayos Controlados ':'investigacion_empirica_ensayos_controlados',\n",
        "        'Supervisión':'supervision',\n",
        "       'Investigación Empírica de Estudios de Caso ':'estudios_de_caso',\n",
        "        'Discusión con Pares':'discusion_pares',\n",
        "       'Libros':'libros',\n",
        "       'Observaciones de Casos Clínicos (por ejemplo en ateneos, prácticas, etc)':'observaciones_casos_clinicos',\n",
        "       'Medidas de resultado (resultados de escalas, cuestionarios, etc)':'medidas_resultado',\n",
        "       'Guías o manuales clínicos':'guias_manuales_clinicos',\n",
        "\n",
        "       # 4 seccion (frases a valorar)\n",
        "      'Estoy dispuesto a utilizar nuevos y diferentes tipos de terapia desarrollados por investigadores':'apertura_terapias_desarrolladas_por_investigadores',\n",
        "       'Es mi deber profesional estar al día con los nuevos desarrollos en la investigación clínica (entendiendo a la investigación como un proceso que sigue el método científico)':'actualizacion_info_cientifica',\n",
        "       'Mi formación clínica hizo énfasis en la investigación (entendiendo a la investigación como un proceso que sigue el método científico)':'formacion_enfasis_investigacion',\n",
        "       'Mis supervisores requieren/han requerido que use tratamientos basados ​​en la evidencia (es decir, con apoyo del método científico)':'supervisores_terapia_evidencia_requerimiento',\n",
        "       'Los tratamientos basados ​​en el método científico son eficientes/costo-efectivos ':'tratamientos_cientificos_eficientes',\n",
        "       'Puedo atraer nuevos consultantes aprendiendo un tratamiento basado en evidencia (como resultado del método científico)':'atraer_consultantes_con_tbe',\n",
        "       'Es importante incorporar los hallazgos científicos en mi práctica diaria':'hallazgos_cientificos_practica_diaria',\n",
        "       'Intentaría una nueva terapia incluso si fuera muy diferente de lo que estoy acostumbrado a hacer (es decir muy diferente a lo que ejerzo)':'nueva_terapia_intento',\n",
        "       'Estoy interesado en aprender tratamientos basados ​​en evidencia (como resultado del método científico)':'interes_aprender_tbe',\n",
        "       'Los tratamientos que uso con mis consultantes tienen una base empírica (es decir cuentan con apoyo del método científico)':'tratamientos_utilizados_base_empirica',\n",
        "       'Mis consultantes son más complejos y diversos que los de los ensayos clínicos (provenientes de la investigación científica, ejemplo ensayos aleatorizados y controlados)':'complejidad_consultantes_ensayos_clinicos',\n",
        "       'Mis consultantes prefieren otros tratamientos que los tratamientos basados ​​en evidencia (como resultado del método científico)':'consultantes_prefieren_otros_tratamientos',\n",
        "       'La terapia no puede ser manualizada':'terapia_manualizada',\n",
        "       'Los diagnósticos utilizados en los ensayos clínicos son demasiado simples (ejemplo ensayos aleatorizados y controlados)':'diagnosticos_utilizados_son_simples',\n",
        "       'Los tratamientos que prefiero no se han probado en un ensayo controlado aleatorio':'tratamientos_preferencia_no_probados_ensayo_controlado',\n",
        "       'Tengo un enfoque de tratamiento individual para cada consultante':'enfoque_tratamiento_individual',\n",
        "       'No tengo tiempo para aprender tratamientos basados ​​en evidencia (como resultado del método científico)':'no_tiempo_aprender_tbe',\n",
        "       'La capacitación en tratamientos basados ​​en evidencia me costaría demasiado dinero (evidencia como resultado del método científico)':'capacitacion_tbe_demasiado_dinero',\n",
        "       'No sé cuáles tratamientos están basados ​​en evidencia (como resultado del método científico)':'no_saber_tbe',\n",
        "       'Mi entrenamiento clínico no proporcionó información suficiente sobre tratamientos basados ​​en evidencia (como resultado del método científico)':'entrenamiento_clinico_no_info_tbe',\n",
        "       'La alianza terapéutica es más importante que aprender cómo hacer una forma específica de psicoterapia':'alianza_terapeutica_mas_importante',\n",
        "       'La mayoría de las terapias son igualmente efectivas':'terapias_igualmente_efectivas',\n",
        "       'Mi empleador no tiene los fondos para pagarme una capacitación en tratamientos basados ​​en evidencia (como resultado del método científico)':'empleador_no_fondos_capacitacion_tbe',\n",
        "       'La experiencia clínica es más importante como guía para el tratamiento que la evidencia científica':'exp_clinica_+imp_que_evidencia_cientifica',\n",
        "\n",
        "       # feedback\n",
        "       '¿Le parecieron claras todas las preguntas?':'claridad_preguntas',\n",
        "       'En el caso de que haya respondido NO, ¿cuál/es no le parecieron CLARAS y por qué?':'claridad_preguntas_comentario',\n",
        "       '¿Cree que alguna pregunta es inapropiada?':'pregunta_inapropiada',\n",
        "       'En el caso de que haya respondido NO, ¿cuál/es no le parecieron APROPIADAS y por qué?':'pregunta_inapropiada_comentario',\n",
        "       '¿Considera que se podrían hacer otras preguntas que aporten información valiosa a lo que se intenta estudiar?':'preguntas_adicionales',\n",
        "       'En el caso de que haya respondido SÍ, ¿cuál/es?':'preguntas_adicionales_sugerencias',\n",
        "       '¿Le gustaría agregar otro comentario?':'comentario_extra',\n",
        "       '¿Usted ha tenido formación universitaria pública o privada?':'formacion_publica_vs_privada',\n",
        "       '¿Le parecieron claras todas las preguntas?.1':'claridad_preguntas_comentario2',\n",
        "       'En el caso de que haya respondido NO, ¿cuál/es no le parecieron CLARAS y por qué?.1':'claridad_preguntas_comentario2',\n",
        "       '¿Cree que alguna pregunta es inapropiada?.1':'pregunta_inapropiada2',\n",
        "       'En el caso de que haya respondido SÍ, ¿cuál/es no le parecieron APROPIADAS y por qué?':'pregunta_inapropiada_comentario',\n",
        "       '¿Considera que se podrían hacer otras preguntas que aporten información valiosa a lo que se intenta estudiar?.1':'preguntas_adicionales2',\n",
        "       'En el caso de que haya respondido SÍ, ¿cuál/es?.1':'preguntas_adicionales_sugerencias2',\n",
        "       '¿Le gustaría agregar otro comentario?.1':'comentario_extra2',\n",
        "\n",
        "       # residencia y consentimiento informado\n",
        "       'Provincia de Residencia':'provincia_residencia',\n",
        "       'Considero fundamental el uso del consentimiento informado y lo uso siempre al tomar pacientes nuevos\\n\\n0 = No sabe/No contesta, 1 = Muy en desacuerdo , 4 = Ni de acuerdo ni en desacuerdo , 7 = Muy de acuerdo':'consentimiento_informado'\n",
        "})\n",
        "df.head()"
      ],
      "metadata": {
        "colab": {
          "base_uri": "https://localhost:8080/",
          "height": 386
        },
        "id": "fV1tioeJt45M",
        "outputId": "e5564519-afa6-4e29-acd1-5f15a9fb763f"
      },
      "execution_count": null,
      "outputs": [
        {
          "output_type": "execute_result",
          "data": {
            "text/plain": [
              "            Timestamp participacion  edad     genero  experiencia_clinica  \\\n",
              "0  2/24/2023 17:49:30            Sí    41   Femenino                  1.2   \n",
              "1  2/24/2023 17:50:27            Sí    26   Femenino                  0.2   \n",
              "2  2/24/2023 17:52:36            Sí    27   Femenino                  1.0   \n",
              "3  2/24/2023 17:58:18            Sí    30  Masculino                  1.3   \n",
              "4  2/24/2023 18:05:06            Sí    26  Masculino                  2.0   \n",
              "\n",
              "                    educacion titulo_terciario              titulo  \\\n",
              "0       Licenciatura de Grado              NaN  Lic. en Psicología   \n",
              "1       Licenciatura de Grado              NaN  Lic. en Psicología   \n",
              "2  Carrera de Especialización              NaN  Lic. en Psicología   \n",
              "3  Carrera de Especialización              NaN  Lic. en Psicología   \n",
              "4       Licenciatura de Grado              NaN  Lic. en Psicología   \n",
              "\n",
              "  no_titulo_universitario  horas_semana_pacientes_atendidos  ...  \\\n",
              "0                     NaN                                12  ...   \n",
              "1                     NaN                                13  ...   \n",
              "2                     NaN                                30  ...   \n",
              "3                     NaN                                35  ...   \n",
              "4                     NaN                                46  ...   \n",
              "\n",
              "  formacion_publica_vs_privada  claridad_preguntas_comentario2  \\\n",
              "0                      Privada                              No   \n",
              "1                      Pública                              Sí   \n",
              "2                      Pública                              Sí   \n",
              "3                      Pública                              Sí   \n",
              "4                      Pública                              Sí   \n",
              "\n",
              "   claridad_preguntas_comentario2 pregunta_inapropiada2  \\\n",
              "0   Varias, no podria especificar                    No   \n",
              "1                             NaN                    No   \n",
              "2                             NaN                    No   \n",
              "3                             NaN                    No   \n",
              "4                             NaN                    No   \n",
              "\n",
              "  pregunta_inapropiada_comentario preguntas_adicionales2  \\\n",
              "0                             NaN                     No   \n",
              "1                             NaN                     No   \n",
              "2                             NaN                     No   \n",
              "3                             NaN                     No   \n",
              "4                             NaN                     No   \n",
              "\n",
              "  preguntas_adicionales_sugerencias2  comentario_extra2  \\\n",
              "0                                NaN                NaN   \n",
              "1                                NaN                NaN   \n",
              "2                                NaN                NaN   \n",
              "3                                NaN                NaN   \n",
              "4                                NaN                NaN   \n",
              "\n",
              "                     provincia_residencia  consentimiento_informado  \n",
              "0               Provincia de Buenos Aires                       NaN  \n",
              "1               Provincia de Buenos Aires                       NaN  \n",
              "2  Ciudad Autónoma de Buenos Aires (CABA)                       NaN  \n",
              "3               Provincia de Buenos Aires                       NaN  \n",
              "4               Provincia de Buenos Aires                       NaN  \n",
              "\n",
              "[5 rows x 73 columns]"
            ],
            "text/html": [
              "\n",
              "  <div id=\"df-12d08f6e-7c51-476c-9a5d-89169e883fc1\">\n",
              "    <div class=\"colab-df-container\">\n",
              "      <div>\n",
              "<style scoped>\n",
              "    .dataframe tbody tr th:only-of-type {\n",
              "        vertical-align: middle;\n",
              "    }\n",
              "\n",
              "    .dataframe tbody tr th {\n",
              "        vertical-align: top;\n",
              "    }\n",
              "\n",
              "    .dataframe thead th {\n",
              "        text-align: right;\n",
              "    }\n",
              "</style>\n",
              "<table border=\"1\" class=\"dataframe\">\n",
              "  <thead>\n",
              "    <tr style=\"text-align: right;\">\n",
              "      <th></th>\n",
              "      <th>Timestamp</th>\n",
              "      <th>participacion</th>\n",
              "      <th>edad</th>\n",
              "      <th>genero</th>\n",
              "      <th>experiencia_clinica</th>\n",
              "      <th>educacion</th>\n",
              "      <th>titulo_terciario</th>\n",
              "      <th>titulo</th>\n",
              "      <th>no_titulo_universitario</th>\n",
              "      <th>horas_semana_pacientes_atendidos</th>\n",
              "      <th>...</th>\n",
              "      <th>formacion_publica_vs_privada</th>\n",
              "      <th>claridad_preguntas_comentario2</th>\n",
              "      <th>claridad_preguntas_comentario2</th>\n",
              "      <th>pregunta_inapropiada2</th>\n",
              "      <th>pregunta_inapropiada_comentario</th>\n",
              "      <th>preguntas_adicionales2</th>\n",
              "      <th>preguntas_adicionales_sugerencias2</th>\n",
              "      <th>comentario_extra2</th>\n",
              "      <th>provincia_residencia</th>\n",
              "      <th>consentimiento_informado</th>\n",
              "    </tr>\n",
              "  </thead>\n",
              "  <tbody>\n",
              "    <tr>\n",
              "      <th>0</th>\n",
              "      <td>2/24/2023 17:49:30</td>\n",
              "      <td>Sí</td>\n",
              "      <td>41</td>\n",
              "      <td>Femenino</td>\n",
              "      <td>1.2</td>\n",
              "      <td>Licenciatura de Grado</td>\n",
              "      <td>NaN</td>\n",
              "      <td>Lic. en Psicología</td>\n",
              "      <td>NaN</td>\n",
              "      <td>12</td>\n",
              "      <td>...</td>\n",
              "      <td>Privada</td>\n",
              "      <td>No</td>\n",
              "      <td>Varias, no podria especificar</td>\n",
              "      <td>No</td>\n",
              "      <td>NaN</td>\n",
              "      <td>No</td>\n",
              "      <td>NaN</td>\n",
              "      <td>NaN</td>\n",
              "      <td>Provincia de Buenos Aires</td>\n",
              "      <td>NaN</td>\n",
              "    </tr>\n",
              "    <tr>\n",
              "      <th>1</th>\n",
              "      <td>2/24/2023 17:50:27</td>\n",
              "      <td>Sí</td>\n",
              "      <td>26</td>\n",
              "      <td>Femenino</td>\n",
              "      <td>0.2</td>\n",
              "      <td>Licenciatura de Grado</td>\n",
              "      <td>NaN</td>\n",
              "      <td>Lic. en Psicología</td>\n",
              "      <td>NaN</td>\n",
              "      <td>13</td>\n",
              "      <td>...</td>\n",
              "      <td>Pública</td>\n",
              "      <td>Sí</td>\n",
              "      <td>NaN</td>\n",
              "      <td>No</td>\n",
              "      <td>NaN</td>\n",
              "      <td>No</td>\n",
              "      <td>NaN</td>\n",
              "      <td>NaN</td>\n",
              "      <td>Provincia de Buenos Aires</td>\n",
              "      <td>NaN</td>\n",
              "    </tr>\n",
              "    <tr>\n",
              "      <th>2</th>\n",
              "      <td>2/24/2023 17:52:36</td>\n",
              "      <td>Sí</td>\n",
              "      <td>27</td>\n",
              "      <td>Femenino</td>\n",
              "      <td>1.0</td>\n",
              "      <td>Carrera de Especialización</td>\n",
              "      <td>NaN</td>\n",
              "      <td>Lic. en Psicología</td>\n",
              "      <td>NaN</td>\n",
              "      <td>30</td>\n",
              "      <td>...</td>\n",
              "      <td>Pública</td>\n",
              "      <td>Sí</td>\n",
              "      <td>NaN</td>\n",
              "      <td>No</td>\n",
              "      <td>NaN</td>\n",
              "      <td>No</td>\n",
              "      <td>NaN</td>\n",
              "      <td>NaN</td>\n",
              "      <td>Ciudad Autónoma de Buenos Aires (CABA)</td>\n",
              "      <td>NaN</td>\n",
              "    </tr>\n",
              "    <tr>\n",
              "      <th>3</th>\n",
              "      <td>2/24/2023 17:58:18</td>\n",
              "      <td>Sí</td>\n",
              "      <td>30</td>\n",
              "      <td>Masculino</td>\n",
              "      <td>1.3</td>\n",
              "      <td>Carrera de Especialización</td>\n",
              "      <td>NaN</td>\n",
              "      <td>Lic. en Psicología</td>\n",
              "      <td>NaN</td>\n",
              "      <td>35</td>\n",
              "      <td>...</td>\n",
              "      <td>Pública</td>\n",
              "      <td>Sí</td>\n",
              "      <td>NaN</td>\n",
              "      <td>No</td>\n",
              "      <td>NaN</td>\n",
              "      <td>No</td>\n",
              "      <td>NaN</td>\n",
              "      <td>NaN</td>\n",
              "      <td>Provincia de Buenos Aires</td>\n",
              "      <td>NaN</td>\n",
              "    </tr>\n",
              "    <tr>\n",
              "      <th>4</th>\n",
              "      <td>2/24/2023 18:05:06</td>\n",
              "      <td>Sí</td>\n",
              "      <td>26</td>\n",
              "      <td>Masculino</td>\n",
              "      <td>2.0</td>\n",
              "      <td>Licenciatura de Grado</td>\n",
              "      <td>NaN</td>\n",
              "      <td>Lic. en Psicología</td>\n",
              "      <td>NaN</td>\n",
              "      <td>46</td>\n",
              "      <td>...</td>\n",
              "      <td>Pública</td>\n",
              "      <td>Sí</td>\n",
              "      <td>NaN</td>\n",
              "      <td>No</td>\n",
              "      <td>NaN</td>\n",
              "      <td>No</td>\n",
              "      <td>NaN</td>\n",
              "      <td>NaN</td>\n",
              "      <td>Provincia de Buenos Aires</td>\n",
              "      <td>NaN</td>\n",
              "    </tr>\n",
              "  </tbody>\n",
              "</table>\n",
              "<p>5 rows × 73 columns</p>\n",
              "</div>\n",
              "      <button class=\"colab-df-convert\" onclick=\"convertToInteractive('df-12d08f6e-7c51-476c-9a5d-89169e883fc1')\"\n",
              "              title=\"Convert this dataframe to an interactive table.\"\n",
              "              style=\"display:none;\">\n",
              "        \n",
              "  <svg xmlns=\"http://www.w3.org/2000/svg\" height=\"24px\"viewBox=\"0 0 24 24\"\n",
              "       width=\"24px\">\n",
              "    <path d=\"M0 0h24v24H0V0z\" fill=\"none\"/>\n",
              "    <path d=\"M18.56 5.44l.94 2.06.94-2.06 2.06-.94-2.06-.94-.94-2.06-.94 2.06-2.06.94zm-11 1L8.5 8.5l.94-2.06 2.06-.94-2.06-.94L8.5 2.5l-.94 2.06-2.06.94zm10 10l.94 2.06.94-2.06 2.06-.94-2.06-.94-.94-2.06-.94 2.06-2.06.94z\"/><path d=\"M17.41 7.96l-1.37-1.37c-.4-.4-.92-.59-1.43-.59-.52 0-1.04.2-1.43.59L10.3 9.45l-7.72 7.72c-.78.78-.78 2.05 0 2.83L4 21.41c.39.39.9.59 1.41.59.51 0 1.02-.2 1.41-.59l7.78-7.78 2.81-2.81c.8-.78.8-2.07 0-2.86zM5.41 20L4 18.59l7.72-7.72 1.47 1.35L5.41 20z\"/>\n",
              "  </svg>\n",
              "      </button>\n",
              "      \n",
              "  <style>\n",
              "    .colab-df-container {\n",
              "      display:flex;\n",
              "      flex-wrap:wrap;\n",
              "      gap: 12px;\n",
              "    }\n",
              "\n",
              "    .colab-df-convert {\n",
              "      background-color: #E8F0FE;\n",
              "      border: none;\n",
              "      border-radius: 50%;\n",
              "      cursor: pointer;\n",
              "      display: none;\n",
              "      fill: #1967D2;\n",
              "      height: 32px;\n",
              "      padding: 0 0 0 0;\n",
              "      width: 32px;\n",
              "    }\n",
              "\n",
              "    .colab-df-convert:hover {\n",
              "      background-color: #E2EBFA;\n",
              "      box-shadow: 0px 1px 2px rgba(60, 64, 67, 0.3), 0px 1px 3px 1px rgba(60, 64, 67, 0.15);\n",
              "      fill: #174EA6;\n",
              "    }\n",
              "\n",
              "    [theme=dark] .colab-df-convert {\n",
              "      background-color: #3B4455;\n",
              "      fill: #D2E3FC;\n",
              "    }\n",
              "\n",
              "    [theme=dark] .colab-df-convert:hover {\n",
              "      background-color: #434B5C;\n",
              "      box-shadow: 0px 1px 3px 1px rgba(0, 0, 0, 0.15);\n",
              "      filter: drop-shadow(0px 1px 2px rgba(0, 0, 0, 0.3));\n",
              "      fill: #FFFFFF;\n",
              "    }\n",
              "  </style>\n",
              "\n",
              "      <script>\n",
              "        const buttonEl =\n",
              "          document.querySelector('#df-12d08f6e-7c51-476c-9a5d-89169e883fc1 button.colab-df-convert');\n",
              "        buttonEl.style.display =\n",
              "          google.colab.kernel.accessAllowed ? 'block' : 'none';\n",
              "\n",
              "        async function convertToInteractive(key) {\n",
              "          const element = document.querySelector('#df-12d08f6e-7c51-476c-9a5d-89169e883fc1');\n",
              "          const dataTable =\n",
              "            await google.colab.kernel.invokeFunction('convertToInteractive',\n",
              "                                                     [key], {});\n",
              "          if (!dataTable) return;\n",
              "\n",
              "          const docLinkHtml = 'Like what you see? Visit the ' +\n",
              "            '<a target=\"_blank\" href=https://colab.research.google.com/notebooks/data_table.ipynb>data table notebook</a>'\n",
              "            + ' to learn more about interactive tables.';\n",
              "          element.innerHTML = '';\n",
              "          dataTable['output_type'] = 'display_data';\n",
              "          await google.colab.output.renderOutput(dataTable, element);\n",
              "          const docLink = document.createElement('div');\n",
              "          docLink.innerHTML = docLinkHtml;\n",
              "          element.appendChild(docLink);\n",
              "        }\n",
              "      </script>\n",
              "    </div>\n",
              "  </div>\n",
              "  "
            ]
          },
          "metadata": {},
          "execution_count": 5
        }
      ]
    },
    {
      "cell_type": "markdown",
      "source": [
        "## Análisis Exploratorio"
      ],
      "metadata": {
        "id": "-i2bMUwL6C1g"
      }
    },
    {
      "cell_type": "code",
      "source": [
        "df.provincia_residencia.value_counts()"
      ],
      "metadata": {
        "colab": {
          "base_uri": "https://localhost:8080/"
        },
        "id": "Wnz47rY750hj",
        "outputId": "f56be879-11dd-478a-b928-0e18bad0f69a"
      },
      "execution_count": null,
      "outputs": [
        {
          "output_type": "execute_result",
          "data": {
            "text/plain": [
              "Provincia de Buenos Aires                                            68\n",
              "Ciudad Autónoma de Buenos Aires (CABA)                               57\n",
              "Córdoba                                                              10\n",
              "La Rioja                                                              9\n",
              "Mendoza                                                               6\n",
              "Santa Fe                                                              6\n",
              "Ciudad Autónoma de Buenos Aires (CABA), Provincia de Buenos Aires     3\n",
              "Corrientes                                                            2\n",
              "Misiones                                                              2\n",
              "Chubut                                                                1\n",
              "Ciudad Autónoma de Buenos Aires (CABA), Entre Ríos                    1\n",
              "Entre Ríos                                                            1\n",
              "Santiago del Estero                                                   1\n",
              "Catamarca                                                             1\n",
              "Río Negro                                                             1\n",
              "Neuquén                                                               1\n",
              "Chaco                                                                 1\n",
              "San Juan                                                              1\n",
              "Name: provincia_residencia, dtype: int64"
            ]
          },
          "metadata": {},
          "execution_count": 6
        }
      ]
    },
    {
      "cell_type": "markdown",
      "source": [
        "## Primera Sección\n",
        "\n",
        "Datos demográficos y orientación teórica:\n",
        "\n",
        "* 'edad'\n",
        "\n",
        "* 'genero'\n",
        "\n",
        "* 'experiencia_clinica'\n",
        "\n",
        "* 'educacion'\n",
        "\n",
        "* 'titulo_terciario'\n",
        "\n",
        "* 'titulo'\n",
        "\n",
        "* 'no_titulo_universitario'\n",
        "\n",
        "* 'horas_semana_pacientes_atendidos'\n",
        "\n",
        "* 'contexto_trabajo'\n",
        "\n",
        "* 'orientacion_teo'\n",
        "\n",
        "* 'marco_teo_terapia_basada_arte'\n",
        "\n",
        "* 'marco_teo_psa'\n",
        "\n",
        "* 'marco_teo_tcc'\n",
        "\n",
        "* 'marco_teo_humanista'\n",
        "\n",
        "* 'marco_teo_eclectico'"
      ],
      "metadata": {
        "id": "fM9MxU6660dv"
      }
    },
    {
      "cell_type": "code",
      "source": [
        "# edad media\n",
        "df['edad'].mean()"
      ],
      "metadata": {
        "colab": {
          "base_uri": "https://localhost:8080/"
        },
        "id": "lLD4JU_LgXw7",
        "outputId": "cdccdc79-9e41-43a1-f134-9b3943eb4a29"
      },
      "execution_count": null,
      "outputs": [
        {
          "output_type": "execute_result",
          "data": {
            "text/plain": [
              "35.20348837209303"
            ]
          },
          "metadata": {},
          "execution_count": 8
        }
      ]
    },
    {
      "cell_type": "code",
      "source": [
        "# media de experiencia clinica\n",
        "df.experiencia_clinica.mean()"
      ],
      "metadata": {
        "colab": {
          "base_uri": "https://localhost:8080/"
        },
        "id": "ix5eLB76gc1N",
        "outputId": "968c5677-b745-43e0-fa7a-c31614cd9abd"
      },
      "execution_count": null,
      "outputs": [
        {
          "output_type": "execute_result",
          "data": {
            "text/plain": [
              "7.009883720930231"
            ]
          },
          "metadata": {},
          "execution_count": 9
        }
      ]
    },
    {
      "cell_type": "code",
      "source": [
        "# media de horas por semana en pacientes atendidos\n",
        "df.horas_semana_pacientes_atendidos.mean()"
      ],
      "metadata": {
        "colab": {
          "base_uri": "https://localhost:8080/"
        },
        "id": "TiSGoVCxkj04",
        "outputId": "829dfbb3-68e7-4918-e0a7-7731a7db6135"
      },
      "execution_count": null,
      "outputs": [
        {
          "output_type": "execute_result",
          "data": {
            "text/plain": [
              "24.08139534883721"
            ]
          },
          "metadata": {},
          "execution_count": 10
        }
      ]
    },
    {
      "cell_type": "code",
      "source": [
        "# educacion\n",
        "df.educacion.value_counts()"
      ],
      "metadata": {
        "colab": {
          "base_uri": "https://localhost:8080/"
        },
        "id": "LN9Ceq3ihhjw",
        "outputId": "c9802049-d4e0-461f-d7ca-f75bca310e15"
      },
      "execution_count": null,
      "outputs": [
        {
          "output_type": "execute_result",
          "data": {
            "text/plain": [
              "Licenciatura de Grado                                        87\n",
              "Carrera de Especialización                                   58\n",
              "Máster                                                       12\n",
              "Doctorado                                                     6\n",
              "Posdoctorado                                                  2\n",
              "Posgrado                                                      2\n",
              "Psicólogo + Cursos y formacion continua por cuenta propia     1\n",
              "Residencia completa                                           1\n",
              "Grado y Posgrados                                             1\n",
              "Profesorado                                                   1\n",
              "Varios posgrados con orientación psicoanalitica               1\n",
              "Name: educacion, dtype: int64"
            ]
          },
          "metadata": {},
          "execution_count": 11
        }
      ]
    },
    {
      "cell_type": "code",
      "source": [
        "# educacion publica o privada\n",
        "df.formacion_publica_vs_privada.value_counts()"
      ],
      "metadata": {
        "colab": {
          "base_uri": "https://localhost:8080/"
        },
        "id": "VuPo5MV7k3iD",
        "outputId": "cf2a7d00-8fa4-4f5f-d459-d2163013ae52"
      },
      "execution_count": null,
      "outputs": [
        {
          "output_type": "execute_result",
          "data": {
            "text/plain": [
              "Pública    112\n",
              "Privada     57\n",
              "Name: formacion_publica_vs_privada, dtype: int64"
            ]
          },
          "metadata": {},
          "execution_count": 12
        }
      ]
    },
    {
      "cell_type": "code",
      "source": [
        "# titulos\n",
        "df.titulo.value_counts()"
      ],
      "metadata": {
        "colab": {
          "base_uri": "https://localhost:8080/"
        },
        "id": "1mU-aOKCgvMg",
        "outputId": "02f28441-e4f8-4f96-fbc1-adad8088e31b"
      },
      "execution_count": null,
      "outputs": [
        {
          "output_type": "execute_result",
          "data": {
            "text/plain": [
              "Lic. en Psicología                   165\n",
              "Psicólogo                              1\n",
              "Psicóloga                              1\n",
              "Lic. en Terapia Ocupacional            1\n",
              "Doctor en Psicología Clínica           1\n",
              "Médico o Lic. en Ciencias Médicas      1\n",
              "Psicologa (UNR)                        1\n",
              "Lic. en Psicomotricidad                1\n",
              "Name: titulo, dtype: int64"
            ]
          },
          "metadata": {},
          "execution_count": 13
        }
      ]
    },
    {
      "cell_type": "code",
      "source": [
        "# ambito de trabajo\n",
        "df.contexto_trabajo.value_counts()"
      ],
      "metadata": {
        "colab": {
          "base_uri": "https://localhost:8080/"
        },
        "id": "GmL2jEvIhQ_v",
        "outputId": "e1877bbb-6dcb-4a5e-e9b3-efb06d78f68d"
      },
      "execution_count": null,
      "outputs": [
        {
          "output_type": "execute_result",
          "data": {
            "text/plain": [
              "Ámbito Privado                                                                       103\n",
              "Ámbito Privado, Obra Social o Prepaga                                                 28\n",
              "Ámbito Público (hospital u otro), Ámbito Privado                                      22\n",
              "Ámbito Público (hospital u otro)                                                       7\n",
              "Ámbito Público (hospital u otro), Ámbito Privado, Obra Social o Prepaga                4\n",
              "Obra Social o Prepaga                                                                  2\n",
              "Particular                                                                             1\n",
              "Ámbito Privado, Obra Social o Prepaga, Hospital privado que trabaja con prepagas       1\n",
              "Ámbito Público (hospital u otro), Ámbito Privado, Docencia y clinica                   1\n",
              "Ámbito Privado,                                                                        1\n",
              "Ámbito Privado, Fundación sin fines de lucro                                           1\n",
              "Ámbito Público (hospital u otro), Ámbito Privado, Poder judicial de la nacion          1\n",
              "Name: contexto_trabajo, dtype: int64"
            ]
          },
          "metadata": {},
          "execution_count": 14
        }
      ]
    },
    {
      "cell_type": "code",
      "source": [
        "# orientacion teo\n",
        "df.orientacion_teo.value_counts()"
      ],
      "metadata": {
        "colab": {
          "base_uri": "https://localhost:8080/"
        },
        "id": "3mfGznr3GTYs",
        "outputId": "5dec525b-028f-4a4e-c30e-d91d42faa65e"
      },
      "execution_count": null,
      "outputs": [
        {
          "output_type": "execute_result",
          "data": {
            "text/plain": [
              "Terapias Cognitivas/Comportamentales        93\n",
              "Psicoanálisis                               45\n",
              "Ecléctico (más de una de estas opciones)    16\n",
              "Sistémica                                   10\n",
              "Psicodinámica                                3\n",
              "Emdr                                         1\n",
              "Pscicocorporal                               1\n",
              "Emdr/ cognitiva                              1\n",
              "Psicocorporal                                1\n",
              "Humanista                                    1\n",
              "Name: orientacion_teo, dtype: int64"
            ]
          },
          "metadata": {},
          "execution_count": 15
        }
      ]
    },
    {
      "cell_type": "markdown",
      "source": [
        "## Segunda Sección\n",
        "\n",
        "La influencia de estos factores a la hora de elegir su orientación teórica:\n",
        "\n",
        "* 'evidencia_cientifica'\n",
        "\n",
        "* 'experiencia_personal'\n",
        "\n",
        "* 'entrenamiento_clinica'\n",
        "\n",
        "* 'tratamiento_preferencia_consultantes'\n",
        "       \n",
        "* 'intuicion'\n",
        "\n",
        "* 'terapia_personal'\n",
        "\n",
        "\n",
        "\n",
        "**El puntaje es así:**\n",
        "\n",
        "0 = No sabe/No contesta\n",
        "1 = Nada Influyente a 7 = Extremadamente Influyente\n"
      ],
      "metadata": {
        "id": "G4CUItFs7o-s"
      }
    },
    {
      "cell_type": "markdown",
      "source": [
        "### PSA"
      ],
      "metadata": {
        "id": "EBlV_Ls2K-pM"
      }
    },
    {
      "cell_type": "code",
      "source": [
        "psa = df[df['orientacion_teo']=='Psicoanálisis']\n",
        "psa.shape"
      ],
      "metadata": {
        "id": "kYHhX6Ya7q_J",
        "colab": {
          "base_uri": "https://localhost:8080/"
        },
        "outputId": "211e01a8-7af8-4492-b6f9-476f763cf096"
      },
      "execution_count": null,
      "outputs": [
        {
          "output_type": "execute_result",
          "data": {
            "text/plain": [
              "(45, 73)"
            ]
          },
          "metadata": {},
          "execution_count": 16
        }
      ]
    },
    {
      "cell_type": "code",
      "source": [
        "second_section_psa = psa[['evidencia_cientifica','experiencia_personal','entrenamiento_clinica',\n",
        "                      'tratamiento_preferencia_consultantes','intuicion','terapia_personal']].mean()"
      ],
      "metadata": {
        "id": "T9MhpqMdMhUd"
      },
      "execution_count": null,
      "outputs": []
    },
    {
      "cell_type": "markdown",
      "source": [
        "### TCC"
      ],
      "metadata": {
        "id": "1jvc6xHrLBXr"
      }
    },
    {
      "cell_type": "code",
      "source": [
        "tcc = df[df['orientacion_teo']=='Terapias Cognitivas/Comportamentales']\n",
        "tcc.shape"
      ],
      "metadata": {
        "colab": {
          "base_uri": "https://localhost:8080/"
        },
        "id": "_xl0RJvvKPoL",
        "outputId": "121734e6-3728-4d10-80b6-02435aa04f24"
      },
      "execution_count": null,
      "outputs": [
        {
          "output_type": "execute_result",
          "data": {
            "text/plain": [
              "(93, 73)"
            ]
          },
          "metadata": {},
          "execution_count": 18
        }
      ]
    },
    {
      "cell_type": "code",
      "source": [
        "second_section_tcc = tcc[['evidencia_cientifica','experiencia_personal','entrenamiento_clinica',\n",
        "                      'tratamiento_preferencia_consultantes','intuicion','terapia_personal']].mean()"
      ],
      "metadata": {
        "id": "PohJonh0NR5U"
      },
      "execution_count": null,
      "outputs": []
    },
    {
      "cell_type": "markdown",
      "source": [
        "### ECLECTICO"
      ],
      "metadata": {
        "id": "UvwQhwHbLC_N"
      }
    },
    {
      "cell_type": "code",
      "source": [
        "eclectico = df[df['orientacion_teo']=='Ecléctico (más de una de estas opciones)']\n",
        "eclectico.shape"
      ],
      "metadata": {
        "colab": {
          "base_uri": "https://localhost:8080/"
        },
        "id": "FZABiQvfKzlJ",
        "outputId": "54ecf9e0-ac4a-436b-fee1-5d5cf07b0abb"
      },
      "execution_count": null,
      "outputs": [
        {
          "output_type": "execute_result",
          "data": {
            "text/plain": [
              "(16, 73)"
            ]
          },
          "metadata": {},
          "execution_count": 20
        }
      ]
    },
    {
      "cell_type": "code",
      "source": [
        "second_section_eclectico = eclectico[['evidencia_cientifica','experiencia_personal','entrenamiento_clinica',\n",
        "                      'tratamiento_preferencia_consultantes','intuicion','terapia_personal']].mean()"
      ],
      "metadata": {
        "id": "Yo3mMKD7Nclz"
      },
      "execution_count": null,
      "outputs": []
    },
    {
      "cell_type": "markdown",
      "source": [
        "### SISTEMICO"
      ],
      "metadata": {
        "id": "e-LmtdlPV9IA"
      }
    },
    {
      "cell_type": "code",
      "source": [
        "sist = df[df['orientacion_teo'] =='Sistémica']"
      ],
      "metadata": {
        "colab": {
          "base_uri": "https://localhost:8080/"
        },
        "id": "BHqi-TWVV-nc",
        "outputId": "2d14e226-2337-479a-cf47-ddea1915eb3d"
      },
      "execution_count": null,
      "outputs": [
        {
          "output_type": "execute_result",
          "data": {
            "text/plain": [
              "(10, 73)"
            ]
          },
          "metadata": {},
          "execution_count": 40
        }
      ]
    },
    {
      "cell_type": "code",
      "source": [
        "second_section_sist = sist[['evidencia_cientifica','experiencia_personal','entrenamiento_clinica',\n",
        "                      'tratamiento_preferencia_consultantes','intuicion','terapia_personal']].mean()"
      ],
      "metadata": {
        "id": "uJA5BqwfWgro"
      },
      "execution_count": null,
      "outputs": []
    },
    {
      "cell_type": "markdown",
      "source": [
        "# DF para Segunda Section"
      ],
      "metadata": {
        "id": "GgqHzrPiWkoC"
      }
    },
    {
      "cell_type": "code",
      "source": [
        "df.orientacion_teo.value_counts()"
      ],
      "metadata": {
        "colab": {
          "base_uri": "https://localhost:8080/"
        },
        "id": "q7-_1pkBWNd3",
        "outputId": "938e57e9-f686-4756-8aea-393f589a2ff4"
      },
      "execution_count": null,
      "outputs": [
        {
          "output_type": "execute_result",
          "data": {
            "text/plain": [
              "Terapias Cognitivas/Comportamentales        93\n",
              "Psicoanálisis                               45\n",
              "Ecléctico (más de una de estas opciones)    16\n",
              "Sistémica                                   10\n",
              "Psicodinámica                                3\n",
              "Emdr                                         1\n",
              "Pscicocorporal                               1\n",
              "Emdr/ cognitiva                              1\n",
              "Psicocorporal                                1\n",
              "Humanista                                    1\n",
              "Name: orientacion_teo, dtype: int64"
            ]
          },
          "metadata": {},
          "execution_count": 38
        }
      ]
    },
    {
      "cell_type": "code",
      "source": [
        "# dataframe\n",
        "df2 = {\n",
        "    'PSA': second_section_psa.round(2),\n",
        "    'TCC': second_section_tcc.round(2),\n",
        "    'ECLECTICO': second_section_eclectico.round(2),\n",
        "    'SISTEMICA': second_section_sist.round(2)\n",
        "}\n",
        "\n",
        "df2 = pd.DataFrame(df2)\n",
        "df2"
      ],
      "metadata": {
        "colab": {
          "base_uri": "https://localhost:8080/",
          "height": 237
        },
        "id": "CgBhjZYKJ_GP",
        "outputId": "ae896f6f-2314-40e4-9e0b-7434013c5ac7"
      },
      "execution_count": null,
      "outputs": [
        {
          "output_type": "execute_result",
          "data": {
            "text/plain": [
              "                                       PSA   TCC  ECLECTICO  SISTEMICA\n",
              "evidencia_cientifica                  3.49  6.59       4.88        5.6\n",
              "experiencia_personal                  5.89  4.90       4.88        4.9\n",
              "entrenamiento_clinica                 5.73  4.94       4.62        5.6\n",
              "tratamiento_preferencia_consultantes  3.53  2.90       3.00        3.6\n",
              "intuicion                             2.84  2.59       3.06        2.7\n",
              "terapia_personal                      6.22  3.83       4.00        3.7"
            ],
            "text/html": [
              "\n",
              "  <div id=\"df-c953e393-d54b-4e32-81c5-5145bbfde8bb\">\n",
              "    <div class=\"colab-df-container\">\n",
              "      <div>\n",
              "<style scoped>\n",
              "    .dataframe tbody tr th:only-of-type {\n",
              "        vertical-align: middle;\n",
              "    }\n",
              "\n",
              "    .dataframe tbody tr th {\n",
              "        vertical-align: top;\n",
              "    }\n",
              "\n",
              "    .dataframe thead th {\n",
              "        text-align: right;\n",
              "    }\n",
              "</style>\n",
              "<table border=\"1\" class=\"dataframe\">\n",
              "  <thead>\n",
              "    <tr style=\"text-align: right;\">\n",
              "      <th></th>\n",
              "      <th>PSA</th>\n",
              "      <th>TCC</th>\n",
              "      <th>ECLECTICO</th>\n",
              "      <th>SISTEMICA</th>\n",
              "    </tr>\n",
              "  </thead>\n",
              "  <tbody>\n",
              "    <tr>\n",
              "      <th>evidencia_cientifica</th>\n",
              "      <td>3.49</td>\n",
              "      <td>6.59</td>\n",
              "      <td>4.88</td>\n",
              "      <td>5.6</td>\n",
              "    </tr>\n",
              "    <tr>\n",
              "      <th>experiencia_personal</th>\n",
              "      <td>5.89</td>\n",
              "      <td>4.90</td>\n",
              "      <td>4.88</td>\n",
              "      <td>4.9</td>\n",
              "    </tr>\n",
              "    <tr>\n",
              "      <th>entrenamiento_clinica</th>\n",
              "      <td>5.73</td>\n",
              "      <td>4.94</td>\n",
              "      <td>4.62</td>\n",
              "      <td>5.6</td>\n",
              "    </tr>\n",
              "    <tr>\n",
              "      <th>tratamiento_preferencia_consultantes</th>\n",
              "      <td>3.53</td>\n",
              "      <td>2.90</td>\n",
              "      <td>3.00</td>\n",
              "      <td>3.6</td>\n",
              "    </tr>\n",
              "    <tr>\n",
              "      <th>intuicion</th>\n",
              "      <td>2.84</td>\n",
              "      <td>2.59</td>\n",
              "      <td>3.06</td>\n",
              "      <td>2.7</td>\n",
              "    </tr>\n",
              "    <tr>\n",
              "      <th>terapia_personal</th>\n",
              "      <td>6.22</td>\n",
              "      <td>3.83</td>\n",
              "      <td>4.00</td>\n",
              "      <td>3.7</td>\n",
              "    </tr>\n",
              "  </tbody>\n",
              "</table>\n",
              "</div>\n",
              "      <button class=\"colab-df-convert\" onclick=\"convertToInteractive('df-c953e393-d54b-4e32-81c5-5145bbfde8bb')\"\n",
              "              title=\"Convert this dataframe to an interactive table.\"\n",
              "              style=\"display:none;\">\n",
              "        \n",
              "  <svg xmlns=\"http://www.w3.org/2000/svg\" height=\"24px\"viewBox=\"0 0 24 24\"\n",
              "       width=\"24px\">\n",
              "    <path d=\"M0 0h24v24H0V0z\" fill=\"none\"/>\n",
              "    <path d=\"M18.56 5.44l.94 2.06.94-2.06 2.06-.94-2.06-.94-.94-2.06-.94 2.06-2.06.94zm-11 1L8.5 8.5l.94-2.06 2.06-.94-2.06-.94L8.5 2.5l-.94 2.06-2.06.94zm10 10l.94 2.06.94-2.06 2.06-.94-2.06-.94-.94-2.06-.94 2.06-2.06.94z\"/><path d=\"M17.41 7.96l-1.37-1.37c-.4-.4-.92-.59-1.43-.59-.52 0-1.04.2-1.43.59L10.3 9.45l-7.72 7.72c-.78.78-.78 2.05 0 2.83L4 21.41c.39.39.9.59 1.41.59.51 0 1.02-.2 1.41-.59l7.78-7.78 2.81-2.81c.8-.78.8-2.07 0-2.86zM5.41 20L4 18.59l7.72-7.72 1.47 1.35L5.41 20z\"/>\n",
              "  </svg>\n",
              "      </button>\n",
              "      \n",
              "  <style>\n",
              "    .colab-df-container {\n",
              "      display:flex;\n",
              "      flex-wrap:wrap;\n",
              "      gap: 12px;\n",
              "    }\n",
              "\n",
              "    .colab-df-convert {\n",
              "      background-color: #E8F0FE;\n",
              "      border: none;\n",
              "      border-radius: 50%;\n",
              "      cursor: pointer;\n",
              "      display: none;\n",
              "      fill: #1967D2;\n",
              "      height: 32px;\n",
              "      padding: 0 0 0 0;\n",
              "      width: 32px;\n",
              "    }\n",
              "\n",
              "    .colab-df-convert:hover {\n",
              "      background-color: #E2EBFA;\n",
              "      box-shadow: 0px 1px 2px rgba(60, 64, 67, 0.3), 0px 1px 3px 1px rgba(60, 64, 67, 0.15);\n",
              "      fill: #174EA6;\n",
              "    }\n",
              "\n",
              "    [theme=dark] .colab-df-convert {\n",
              "      background-color: #3B4455;\n",
              "      fill: #D2E3FC;\n",
              "    }\n",
              "\n",
              "    [theme=dark] .colab-df-convert:hover {\n",
              "      background-color: #434B5C;\n",
              "      box-shadow: 0px 1px 3px 1px rgba(0, 0, 0, 0.15);\n",
              "      filter: drop-shadow(0px 1px 2px rgba(0, 0, 0, 0.3));\n",
              "      fill: #FFFFFF;\n",
              "    }\n",
              "  </style>\n",
              "\n",
              "      <script>\n",
              "        const buttonEl =\n",
              "          document.querySelector('#df-c953e393-d54b-4e32-81c5-5145bbfde8bb button.colab-df-convert');\n",
              "        buttonEl.style.display =\n",
              "          google.colab.kernel.accessAllowed ? 'block' : 'none';\n",
              "\n",
              "        async function convertToInteractive(key) {\n",
              "          const element = document.querySelector('#df-c953e393-d54b-4e32-81c5-5145bbfde8bb');\n",
              "          const dataTable =\n",
              "            await google.colab.kernel.invokeFunction('convertToInteractive',\n",
              "                                                     [key], {});\n",
              "          if (!dataTable) return;\n",
              "\n",
              "          const docLinkHtml = 'Like what you see? Visit the ' +\n",
              "            '<a target=\"_blank\" href=https://colab.research.google.com/notebooks/data_table.ipynb>data table notebook</a>'\n",
              "            + ' to learn more about interactive tables.';\n",
              "          element.innerHTML = '';\n",
              "          dataTable['output_type'] = 'display_data';\n",
              "          await google.colab.output.renderOutput(dataTable, element);\n",
              "          const docLink = document.createElement('div');\n",
              "          docLink.innerHTML = docLinkHtml;\n",
              "          element.appendChild(docLink);\n",
              "        }\n",
              "      </script>\n",
              "    </div>\n",
              "  </div>\n",
              "  "
            ]
          },
          "metadata": {},
          "execution_count": 95
        }
      ]
    },
    {
      "cell_type": "code",
      "source": [
        "ax = df2.plot(kind='barh', figsize=(10,10), width=0.8)\n",
        "\n",
        "ax.set_xlabel('Puntaje')\n",
        "ax.set_ylabel('Variables')\n",
        "ax.set_title('Medias segun marco teo')\n",
        "plt.show()"
      ],
      "metadata": {
        "colab": {
          "base_uri": "https://localhost:8080/",
          "height": 715
        },
        "id": "-Z2X2mXIcRDn",
        "outputId": "0a7bcb25-7bcc-4fca-8510-f91f9b719b63"
      },
      "execution_count": null,
      "outputs": [
        {
          "output_type": "display_data",
          "data": {
            "text/plain": [
              "<Figure size 1000x1000 with 1 Axes>"
            ],
            "image/png": "[encoded data removed]"
          },
          "metadata": {}
        }
      ]
    },
    {
      "cell_type": "markdown",
      "source": [
        "## Tercer Sección\n",
        "\n",
        "Fuentes utilizadas para mejorar las habilidades y efectividad en la clínica:\n",
        "\n",
        "* 'tratamiento_personal_consultantes'\n",
        "\n",
        "* 'investigacion_empirica_ensayos_controlados'\n",
        "* 'supervision'\n",
        "\n",
        "* 'estudios_de_caso'\n",
        "\n",
        "* 'discusion_pares'\n",
        "\n",
        "* 'libros'\n",
        "\n",
        "* 'observaciones_casos_clinicos'\n",
        "\n",
        "* 'medidas_resultado'\n",
        "\n",
        "* 'guias_manuales_clinicos'"
      ],
      "metadata": {
        "id": "GLz4XeYG86H9"
      }
    },
    {
      "cell_type": "markdown",
      "source": [
        "0 = No sabe/No contesta, 1 = Nunca , 4 = A veces, 7 = Siempre"
      ],
      "metadata": {
        "id": "uef1D4Xdm6pP"
      }
    },
    {
      "cell_type": "markdown",
      "source": [
        "### PSA"
      ],
      "metadata": {
        "id": "4LMGyNXoNvax"
      }
    },
    {
      "cell_type": "code",
      "source": [
        "third_section_psa = psa[['tratamiento_personal_consultantes','investigacion_empirica_ensayos_controlados',\\\n",
        "                         'supervision','estudios_de_caso','discusion_pares','libros','observaciones_casos_clinicos',\\\n",
        "                         'medidas_resultado','guias_manuales_clinicos']].mean()"
      ],
      "metadata": {
        "id": "hTxestLyNy-j"
      },
      "execution_count": null,
      "outputs": []
    },
    {
      "cell_type": "markdown",
      "source": [
        "### TCC"
      ],
      "metadata": {
        "id": "SAvo8wfeNwdw"
      }
    },
    {
      "cell_type": "code",
      "source": [
        "third_section_tcc = tcc[['tratamiento_personal_consultantes','investigacion_empirica_ensayos_controlados',\n",
        "                         'supervision','estudios_de_caso','discusion_pares','libros','observaciones_casos_clinicos',\n",
        "                         'medidas_resultado','guias_manuales_clinicos']].mean()"
      ],
      "metadata": {
        "id": "iUuIx3xqNzXu"
      },
      "execution_count": null,
      "outputs": []
    },
    {
      "cell_type": "markdown",
      "source": [
        "### ECLECTICO"
      ],
      "metadata": {
        "id": "TXtEsAbNNxdv"
      }
    },
    {
      "cell_type": "code",
      "source": [
        "third_section_eclectico = eclectico[['tratamiento_personal_consultantes','investigacion_empirica_ensayos_controlados',\n",
        "                         'supervision','estudios_de_caso','discusion_pares','libros','observaciones_casos_clinicos',\n",
        "                         'medidas_resultado','guias_manuales_clinicos']].mean()"
      ],
      "metadata": {
        "id": "m0nOn3VjFlOh"
      },
      "execution_count": null,
      "outputs": []
    },
    {
      "cell_type": "markdown",
      "source": [
        "### SISTEMICA"
      ],
      "metadata": {
        "id": "J56p3hVBXI90"
      }
    },
    {
      "cell_type": "code",
      "source": [
        "third_section_sist = sist[['tratamiento_personal_consultantes','investigacion_empirica_ensayos_controlados',\n",
        "                         'supervision','estudios_de_caso','discusion_pares','libros','observaciones_casos_clinicos',\n",
        "                         'medidas_resultado','guias_manuales_clinicos']].mean()"
      ],
      "metadata": {
        "id": "djTbdHOGXKGe"
      },
      "execution_count": null,
      "outputs": []
    },
    {
      "cell_type": "markdown",
      "source": [
        "# DF para Tercer Section"
      ],
      "metadata": {
        "id": "SqbYLyDFXg5x"
      }
    },
    {
      "cell_type": "code",
      "source": [
        "# dataframe for 3rd section\n",
        "df3 = {\n",
        "    'PSA': third_section_psa.round(2),\n",
        "    'TCC': third_section_tcc.round(2),\n",
        "    'ECLECTICO': third_section_eclectico.round(2),\n",
        "    'SISTEMICA': third_section_sist.round(2)\n",
        "}\n",
        "\n",
        "df3 = pd.DataFrame(df3)\n",
        "df3"
      ],
      "metadata": {
        "colab": {
          "base_uri": "https://localhost:8080/",
          "height": 331
        },
        "id": "sV2bfNCHL2SA",
        "outputId": "9c87311c-3c4b-4eeb-f5ad-fc65916f7c24"
      },
      "execution_count": null,
      "outputs": [
        {
          "output_type": "execute_result",
          "data": {
            "text/plain": [
              "                                             PSA   TCC  ECLECTICO  SISTEMICA\n",
              "tratamiento_personal_consultantes           5.98  5.39       4.94        5.7\n",
              "investigacion_empirica_ensayos_controlados  2.11  4.63       3.44        3.8\n",
              "supervision                                 6.18  5.23       5.00        5.2\n",
              "estudios_de_caso                            4.33  4.18       3.25        3.6\n",
              "discusion_pares                             6.24  5.65       5.44        5.0\n",
              "libros                                      6.42  6.18       5.44        6.3\n",
              "observaciones_casos_clinicos                5.96  3.91       3.81        5.9\n",
              "medidas_resultado                           1.96  4.34       3.44        2.9\n",
              "guias_manuales_clinicos                     2.62  5.96       4.88        4.9"
            ],
            "text/html": [
              "\n",
              "  <div id=\"df-572dec65-db88-43c9-b13f-198ba0d002cd\">\n",
              "    <div class=\"colab-df-container\">\n",
              "      <div>\n",
              "<style scoped>\n",
              "    .dataframe tbody tr th:only-of-type {\n",
              "        vertical-align: middle;\n",
              "    }\n",
              "\n",
              "    .dataframe tbody tr th {\n",
              "        vertical-align: top;\n",
              "    }\n",
              "\n",
              "    .dataframe thead th {\n",
              "        text-align: right;\n",
              "    }\n",
              "</style>\n",
              "<table border=\"1\" class=\"dataframe\">\n",
              "  <thead>\n",
              "    <tr style=\"text-align: right;\">\n",
              "      <th></th>\n",
              "      <th>PSA</th>\n",
              "      <th>TCC</th>\n",
              "      <th>ECLECTICO</th>\n",
              "      <th>SISTEMICA</th>\n",
              "    </tr>\n",
              "  </thead>\n",
              "  <tbody>\n",
              "    <tr>\n",
              "      <th>tratamiento_personal_consultantes</th>\n",
              "      <td>5.98</td>\n",
              "      <td>5.39</td>\n",
              "      <td>4.94</td>\n",
              "      <td>5.7</td>\n",
              "    </tr>\n",
              "    <tr>\n",
              "      <th>investigacion_empirica_ensayos_controlados</th>\n",
              "      <td>2.11</td>\n",
              "      <td>4.63</td>\n",
              "      <td>3.44</td>\n",
              "      <td>3.8</td>\n",
              "    </tr>\n",
              "    <tr>\n",
              "      <th>supervision</th>\n",
              "      <td>6.18</td>\n",
              "      <td>5.23</td>\n",
              "      <td>5.00</td>\n",
              "      <td>5.2</td>\n",
              "    </tr>\n",
              "    <tr>\n",
              "      <th>estudios_de_caso</th>\n",
              "      <td>4.33</td>\n",
              "      <td>4.18</td>\n",
              "      <td>3.25</td>\n",
              "      <td>3.6</td>\n",
              "    </tr>\n",
              "    <tr>\n",
              "      <th>discusion_pares</th>\n",
              "      <td>6.24</td>\n",
              "      <td>5.65</td>\n",
              "      <td>5.44</td>\n",
              "      <td>5.0</td>\n",
              "    </tr>\n",
              "    <tr>\n",
              "      <th>libros</th>\n",
              "      <td>6.42</td>\n",
              "      <td>6.18</td>\n",
              "      <td>5.44</td>\n",
              "      <td>6.3</td>\n",
              "    </tr>\n",
              "    <tr>\n",
              "      <th>observaciones_casos_clinicos</th>\n",
              "      <td>5.96</td>\n",
              "      <td>3.91</td>\n",
              "      <td>3.81</td>\n",
              "      <td>5.9</td>\n",
              "    </tr>\n",
              "    <tr>\n",
              "      <th>medidas_resultado</th>\n",
              "      <td>1.96</td>\n",
              "      <td>4.34</td>\n",
              "      <td>3.44</td>\n",
              "      <td>2.9</td>\n",
              "    </tr>\n",
              "    <tr>\n",
              "      <th>guias_manuales_clinicos</th>\n",
              "      <td>2.62</td>\n",
              "      <td>5.96</td>\n",
              "      <td>4.88</td>\n",
              "      <td>4.9</td>\n",
              "    </tr>\n",
              "  </tbody>\n",
              "</table>\n",
              "</div>\n",
              "      <button class=\"colab-df-convert\" onclick=\"convertToInteractive('df-572dec65-db88-43c9-b13f-198ba0d002cd')\"\n",
              "              title=\"Convert this dataframe to an interactive table.\"\n",
              "              style=\"display:none;\">\n",
              "        \n",
              "  <svg xmlns=\"http://www.w3.org/2000/svg\" height=\"24px\"viewBox=\"0 0 24 24\"\n",
              "       width=\"24px\">\n",
              "    <path d=\"M0 0h24v24H0V0z\" fill=\"none\"/>\n",
              "    <path d=\"M18.56 5.44l.94 2.06.94-2.06 2.06-.94-2.06-.94-.94-2.06-.94 2.06-2.06.94zm-11 1L8.5 8.5l.94-2.06 2.06-.94-2.06-.94L8.5 2.5l-.94 2.06-2.06.94zm10 10l.94 2.06.94-2.06 2.06-.94-2.06-.94-.94-2.06-.94 2.06-2.06.94z\"/><path d=\"M17.41 7.96l-1.37-1.37c-.4-.4-.92-.59-1.43-.59-.52 0-1.04.2-1.43.59L10.3 9.45l-7.72 7.72c-.78.78-.78 2.05 0 2.83L4 21.41c.39.39.9.59 1.41.59.51 0 1.02-.2 1.41-.59l7.78-7.78 2.81-2.81c.8-.78.8-2.07 0-2.86zM5.41 20L4 18.59l7.72-7.72 1.47 1.35L5.41 20z\"/>\n",
              "  </svg>\n",
              "      </button>\n",
              "      \n",
              "  <style>\n",
              "    .colab-df-container {\n",
              "      display:flex;\n",
              "      flex-wrap:wrap;\n",
              "      gap: 12px;\n",
              "    }\n",
              "\n",
              "    .colab-df-convert {\n",
              "      background-color: #E8F0FE;\n",
              "      border: none;\n",
              "      border-radius: 50%;\n",
              "      cursor: pointer;\n",
              "      display: none;\n",
              "      fill: #1967D2;\n",
              "      height: 32px;\n",
              "      padding: 0 0 0 0;\n",
              "      width: 32px;\n",
              "    }\n",
              "\n",
              "    .colab-df-convert:hover {\n",
              "      background-color: #E2EBFA;\n",
              "      box-shadow: 0px 1px 2px rgba(60, 64, 67, 0.3), 0px 1px 3px 1px rgba(60, 64, 67, 0.15);\n",
              "      fill: #174EA6;\n",
              "    }\n",
              "\n",
              "    [theme=dark] .colab-df-convert {\n",
              "      background-color: #3B4455;\n",
              "      fill: #D2E3FC;\n",
              "    }\n",
              "\n",
              "    [theme=dark] .colab-df-convert:hover {\n",
              "      background-color: #434B5C;\n",
              "      box-shadow: 0px 1px 3px 1px rgba(0, 0, 0, 0.15);\n",
              "      filter: drop-shadow(0px 1px 2px rgba(0, 0, 0, 0.3));\n",
              "      fill: #FFFFFF;\n",
              "    }\n",
              "  </style>\n",
              "\n",
              "      <script>\n",
              "        const buttonEl =\n",
              "          document.querySelector('#df-572dec65-db88-43c9-b13f-198ba0d002cd button.colab-df-convert');\n",
              "        buttonEl.style.display =\n",
              "          google.colab.kernel.accessAllowed ? 'block' : 'none';\n",
              "\n",
              "        async function convertToInteractive(key) {\n",
              "          const element = document.querySelector('#df-572dec65-db88-43c9-b13f-198ba0d002cd');\n",
              "          const dataTable =\n",
              "            await google.colab.kernel.invokeFunction('convertToInteractive',\n",
              "                                                     [key], {});\n",
              "          if (!dataTable) return;\n",
              "\n",
              "          const docLinkHtml = 'Like what you see? Visit the ' +\n",
              "            '<a target=\"_blank\" href=https://colab.research.google.com/notebooks/data_table.ipynb>data table notebook</a>'\n",
              "            + ' to learn more about interactive tables.';\n",
              "          element.innerHTML = '';\n",
              "          dataTable['output_type'] = 'display_data';\n",
              "          await google.colab.output.renderOutput(dataTable, element);\n",
              "          const docLink = document.createElement('div');\n",
              "          docLink.innerHTML = docLinkHtml;\n",
              "          element.appendChild(docLink);\n",
              "        }\n",
              "      </script>\n",
              "    </div>\n",
              "  </div>\n",
              "  "
            ]
          },
          "metadata": {},
          "execution_count": 48
        }
      ]
    },
    {
      "cell_type": "code",
      "source": [
        "ax = df3.plot(kind='barh', figsize=(10,10), width=0.8)\n",
        "\n",
        "ax.set_xlabel('Puntaje')\n",
        "ax.set_ylabel('Variables')\n",
        "ax.set_title('Fuentes Utilizadas')\n",
        "plt.show()"
      ],
      "metadata": {
        "colab": {
          "base_uri": "https://localhost:8080/",
          "height": 686
        },
        "id": "zmariD5Jce2Y",
        "outputId": "c8c0b2c2-5cc2-436f-828b-cc4008b3b156"
      },
      "execution_count": null,
      "outputs": [
        {
          "output_type": "display_data",
          "data": {
            "text/plain": [
              "<Figure size 1000x1000 with 1 Axes>"
            ],
            "image/png": "[encoded data removed]"
          },
          "metadata": {}
        }
      ]
    },
    {
      "cell_type": "markdown",
      "source": [
        "## Cuarta Sección\n",
        "\n",
        "* 'apertura_terapias_desarrolladas_por_investigadores'\n",
        "\n",
        "* 'actualizacion_info_cientifica'\n",
        "\n",
        "* 'formacion_enfasis_investigacion'\n",
        "\n",
        "* 'supervisores_terapia_evidencia_requerimiento'\n",
        "\n",
        "* 'tratamientos_cientificos_eficientes'\n",
        "\n",
        "* 'atraer_consultantes_con_tbe'\n",
        "\n",
        "* 'hallazgos_cientificos_practica_diaria'\n",
        "\n",
        "* 'nueva_terapia_intento'\n",
        "\n",
        "* 'interes_aprender_tbe'\n",
        "\n",
        "* 'tratamientos_utilizados_base_empirica'\n",
        "\n",
        "* 'complejidad_consultantes_ensayos_clinicos'\n",
        "\n",
        "* 'consultantes_prefieren_otros_tratamientos'\n",
        "\n",
        "* 'terapia_manualizada'\n",
        "\n",
        "* 'diagnosticos_utilizados_son_simples'\n",
        "\n",
        "* 'tratamientos_preferencia_no_probados_ensayo_controlado'\n",
        "\n",
        "* 'enfoque_tratamiento_individual'\n",
        "\n",
        "* 'no_tiempo_aprender_tbe'\n",
        "\n",
        "* 'capacitacion_tbe_demasiado_dinero'\n",
        "\n",
        "* 'no_saber_tbe'\n",
        "\n",
        "* 'entrenamiento_clinico_no_info_tbe'\n",
        "\n",
        "* 'alianza_terapeutica_mas_importante'\n",
        "\n",
        "* 'terapias_igualmente_efectivas'\n",
        "\n",
        "* 'empleador_no_fondos_capacitacion_tbe'\n",
        "\n",
        "* 'exp_clinica_+imp_que_evidencia_cientifica'"
      ],
      "metadata": {
        "id": "hl_BGXcV9TxU"
      }
    },
    {
      "cell_type": "markdown",
      "source": [
        "## Puntaje con 8\n",
        "\n",
        "* 'actualizacion_info_cientifica'\n",
        "\n",
        "* 'formacion_enfasis_investigacion'\n",
        "\n",
        "* 'supervisores_terapia_evidencia_requerimiento'\n",
        "\n",
        "* 'tratamientos_cientificos_eficientes'\n",
        "\n",
        "* 'atraer_consultantes_con_tbe'\n",
        "\n",
        "* 'hallazgos_cientificos_practica_diaria'\n",
        "\n",
        "* interes_aprender_tbe\n",
        "\n",
        "* tratamientos_utilizados_base_empirica\n",
        "\n",
        "* complejidad_consultantes_ensayos_clinicos\n",
        "\n",
        "* consultantes_prefieren_otros_tratamientos\n",
        "\n",
        "* no_tiempo_aprender_tbe\n",
        "\n",
        "* capacitacion_tbe_demasiado_dinero\n",
        "\n",
        "* no_saber_tbe\n",
        "\n",
        "* entrenamiento_clinico_no_info_tbe\n",
        "\n",
        "* empleador_no_fondos_capacitacion_tbe"
      ],
      "metadata": {
        "id": "9DcOpzTKbU1Z"
      }
    },
    {
      "cell_type": "markdown",
      "source": [
        "**INFO RESPUESTAS**\n",
        "\n",
        "0 = No sabe no contesta\n",
        "\n",
        "1 = Muy en desacuerdo\n",
        "\n",
        "4 = Ni de acuerdo ni en desacuerdo\n",
        "\n",
        "7 = Muy de acuerdo\n",
        "\n",
        "8 = No aplica la pregunta, ya que no considero que haya UN tipo de método científico"
      ],
      "metadata": {
        "id": "Oss2lLMBWj_k"
      }
    },
    {
      "cell_type": "markdown",
      "source": [
        "### PSA"
      ],
      "metadata": {
        "id": "VzZlhvZdPH98"
      }
    },
    {
      "cell_type": "code",
      "source": [
        "fourth_section_psa = psa[['apertura_terapias_desarrolladas_por_investigadores',\n",
        "                        'nueva_terapia_intento','terapia_manualizada',\n",
        "                         'diagnosticos_utilizados_son_simples','tratamientos_preferencia_no_probados_ensayo_controlado',\n",
        "                         'enfoque_tratamiento_individual','alianza_terapeutica_mas_importante',\n",
        "                         'terapias_igualmente_efectivas','exp_clinica_+imp_que_evidencia_cientifica',\n",
        "                          'actualizacion_info_cientifica',\n",
        "                         'formacion_enfasis_investigacion','supervisores_terapia_evidencia_requerimiento',\n",
        "                         'atraer_consultantes_con_tbe',\n",
        "                         'hallazgos_cientificos_practica_diaria','interes_aprender_tbe',\n",
        "                         'tratamientos_utilizados_base_empirica','complejidad_consultantes_ensayos_clinicos',\n",
        "                         'consultantes_prefieren_otros_tratamientos',\n",
        "                         'no_tiempo_aprender_tbe','capacitacion_tbe_demasiado_dinero',\n",
        "                         'no_saber_tbe','entrenamiento_clinico_no_info_tbe',\n",
        "                         'empleador_no_fondos_capacitacion_tbe']].mean()"
      ],
      "metadata": {
        "id": "kS1IiBCyoTIN"
      },
      "execution_count": null,
      "outputs": []
    },
    {
      "cell_type": "markdown",
      "source": [
        "### TCC"
      ],
      "metadata": {
        "id": "9FizZAKZPKPp"
      }
    },
    {
      "cell_type": "code",
      "source": [
        "fourth_section_tcc = tcc[['apertura_terapias_desarrolladas_por_investigadores',\n",
        "                        'nueva_terapia_intento','terapia_manualizada',\n",
        "                         'diagnosticos_utilizados_son_simples','tratamientos_preferencia_no_probados_ensayo_controlado',\n",
        "                         'enfoque_tratamiento_individual','alianza_terapeutica_mas_importante',\n",
        "                         'terapias_igualmente_efectivas','exp_clinica_+imp_que_evidencia_cientifica',\n",
        "                          'actualizacion_info_cientifica',\n",
        "                         'formacion_enfasis_investigacion','supervisores_terapia_evidencia_requerimiento',\n",
        "                         'atraer_consultantes_con_tbe',\n",
        "                         'hallazgos_cientificos_practica_diaria','interes_aprender_tbe',\n",
        "                         'tratamientos_utilizados_base_empirica','complejidad_consultantes_ensayos_clinicos',\n",
        "                         'consultantes_prefieren_otros_tratamientos',\n",
        "                         'no_tiempo_aprender_tbe','capacitacion_tbe_demasiado_dinero',\n",
        "                         'no_saber_tbe','entrenamiento_clinico_no_info_tbe',\n",
        "                         'empleador_no_fondos_capacitacion_tbe']].mean()"
      ],
      "metadata": {
        "id": "I-PnAY-cPPS2"
      },
      "execution_count": null,
      "outputs": []
    },
    {
      "cell_type": "markdown",
      "source": [
        "### ECLECTICO"
      ],
      "metadata": {
        "id": "NvX2D5-gPLPn"
      }
    },
    {
      "cell_type": "code",
      "source": [
        "fourth_section_eclectico = eclectico[['apertura_terapias_desarrolladas_por_investigadores',\n",
        "                        'nueva_terapia_intento','terapia_manualizada',\n",
        "                         'diagnosticos_utilizados_son_simples','tratamientos_preferencia_no_probados_ensayo_controlado',\n",
        "                         'enfoque_tratamiento_individual','alianza_terapeutica_mas_importante',\n",
        "                         'terapias_igualmente_efectivas','exp_clinica_+imp_que_evidencia_cientifica',\n",
        "                          'actualizacion_info_cientifica',\n",
        "                         'formacion_enfasis_investigacion','supervisores_terapia_evidencia_requerimiento',\n",
        "                         'atraer_consultantes_con_tbe',\n",
        "                         'hallazgos_cientificos_practica_diaria','interes_aprender_tbe',\n",
        "                         'tratamientos_utilizados_base_empirica','complejidad_consultantes_ensayos_clinicos',\n",
        "                         'consultantes_prefieren_otros_tratamientos',\n",
        "                         'no_tiempo_aprender_tbe','capacitacion_tbe_demasiado_dinero',\n",
        "                         'no_saber_tbe','entrenamiento_clinico_no_info_tbe',\n",
        "                         'empleador_no_fondos_capacitacion_tbe']].mean()"
      ],
      "metadata": {
        "id": "rXxNwJdzPO43"
      },
      "execution_count": null,
      "outputs": []
    },
    {
      "cell_type": "markdown",
      "source": [
        "### SISTEMICA"
      ],
      "metadata": {
        "id": "huHiSSFiXqeO"
      }
    },
    {
      "cell_type": "code",
      "source": [
        "fourth_section_sist = sist[['apertura_terapias_desarrolladas_por_investigadores',\n",
        "                        'nueva_terapia_intento','terapia_manualizada',\n",
        "                         'diagnosticos_utilizados_son_simples','tratamientos_preferencia_no_probados_ensayo_controlado',\n",
        "                         'enfoque_tratamiento_individual','alianza_terapeutica_mas_importante',\n",
        "                         'terapias_igualmente_efectivas','exp_clinica_+imp_que_evidencia_cientifica',\n",
        "                          'actualizacion_info_cientifica',\n",
        "                         'formacion_enfasis_investigacion','supervisores_terapia_evidencia_requerimiento',\n",
        "                         'atraer_consultantes_con_tbe',\n",
        "                         'hallazgos_cientificos_practica_diaria','interes_aprender_tbe',\n",
        "                         'tratamientos_utilizados_base_empirica','complejidad_consultantes_ensayos_clinicos',\n",
        "                         'consultantes_prefieren_otros_tratamientos',\n",
        "                         'no_tiempo_aprender_tbe','capacitacion_tbe_demasiado_dinero',\n",
        "                         'no_saber_tbe','entrenamiento_clinico_no_info_tbe',\n",
        "                         'empleador_no_fondos_capacitacion_tbe']].mean()"
      ],
      "metadata": {
        "id": "vlwmKFACXrhV"
      },
      "execution_count": null,
      "outputs": []
    },
    {
      "cell_type": "markdown",
      "source": [
        "# DF para Cuarta Section"
      ],
      "metadata": {
        "id": "o8ssqorVXmb_"
      }
    },
    {
      "cell_type": "code",
      "source": [
        "# dataframe for 3rd section\n",
        "df4 = {\n",
        "    'PSA': fourth_section_psa.round(2),\n",
        "    'TCC': fourth_section_tcc.round(2),\n",
        "    'ECLECTICO': fourth_section_eclectico.round(2),\n",
        "    'SISTEMICA': fourth_section_sist.round(2)\n",
        "}\n",
        "\n",
        "df4 = pd.DataFrame(df4)\n",
        "df4"
      ],
      "metadata": {
        "colab": {
          "base_uri": "https://localhost:8080/",
          "height": 770
        },
        "id": "QGVKBRg7MXNY",
        "outputId": "46824b79-c79f-4a9a-939e-2ccd6df132bf"
      },
      "execution_count": null,
      "outputs": [
        {
          "output_type": "execute_result",
          "data": {
            "text/plain": [
              "                                                     PSA   TCC  ECLECTICO  \\\n",
              "apertura_terapias_desarrolladas_por_investigadores  4.22  5.87       6.12   \n",
              "nueva_terapia_intento                               4.04  4.66       4.56   \n",
              "terapia_manualizada                                 4.38  2.99       4.50   \n",
              "diagnosticos_utilizados_son_simples                 3.49  3.70       4.25   \n",
              "tratamientos_preferencia_no_probados_ensayo_con...  3.31  1.63       2.44   \n",
              "enfoque_tratamiento_individual                      5.36  4.87       5.81   \n",
              "alianza_terapeutica_mas_importante                  3.71  3.13       4.69   \n",
              "terapias_igualmente_efectivas                       3.13  1.55       2.75   \n",
              "exp_clinica_+imp_que_evidencia_cientifica           4.82  2.60       4.38   \n",
              "actualizacion_info_cientifica                       3.64  5.83       5.44   \n",
              "formacion_enfasis_investigacion                     2.91  5.20       3.94   \n",
              "supervisores_terapia_evidencia_requerimiento        1.60  4.97       3.69   \n",
              "atraer_consultantes_con_tbe                         2.38  5.39       4.62   \n",
              "hallazgos_cientificos_practica_diaria               3.69  6.18       5.50   \n",
              "interes_aprender_tbe                                3.33  6.25       5.69   \n",
              "tratamientos_utilizados_base_empirica               3.51  6.33       4.56   \n",
              "complejidad_consultantes_ensayos_clinicos           3.87  5.06       5.12   \n",
              "consultantes_prefieren_otros_tratamientos           2.71  2.77       3.31   \n",
              "no_tiempo_aprender_tbe                              1.16  1.86       2.31   \n",
              "capacitacion_tbe_demasiado_dinero                   1.78  4.35       3.88   \n",
              "no_saber_tbe                                        1.71  1.37       2.19   \n",
              "entrenamiento_clinico_no_info_tbe                   2.60  3.40       3.88   \n",
              "empleador_no_fondos_capacitacion_tbe                1.71  2.72       2.50   \n",
              "\n",
              "                                                    SISTEMICA  \n",
              "apertura_terapias_desarrolladas_por_investigadores        6.4  \n",
              "nueva_terapia_intento                                     3.0  \n",
              "terapia_manualizada                                       4.4  \n",
              "diagnosticos_utilizados_son_simples                       2.3  \n",
              "tratamientos_preferencia_no_probados_ensayo_con...        2.2  \n",
              "enfoque_tratamiento_individual                            3.9  \n",
              "alianza_terapeutica_mas_importante                        4.9  \n",
              "terapias_igualmente_efectivas                             3.0  \n",
              "exp_clinica_+imp_que_evidencia_cientifica                 3.0  \n",
              "actualizacion_info_cientifica                             4.8  \n",
              "formacion_enfasis_investigacion                           4.2  \n",
              "supervisores_terapia_evidencia_requerimiento              6.0  \n",
              "atraer_consultantes_con_tbe                               4.3  \n",
              "hallazgos_cientificos_practica_diaria                     6.4  \n",
              "interes_aprender_tbe                                      5.6  \n",
              "tratamientos_utilizados_base_empirica                     6.7  \n",
              "complejidad_consultantes_ensayos_clinicos                 4.2  \n",
              "consultantes_prefieren_otros_tratamientos                 2.8  \n",
              "no_tiempo_aprender_tbe                                    3.1  \n",
              "capacitacion_tbe_demasiado_dinero                         4.6  \n",
              "no_saber_tbe                                              2.2  \n",
              "entrenamiento_clinico_no_info_tbe                         2.4  \n",
              "empleador_no_fondos_capacitacion_tbe                      4.6  "
            ],
            "text/html": [
              "\n",
              "  <div id=\"df-3c05b5ed-77da-4dd7-bdb6-8dfb75ad0876\">\n",
              "    <div class=\"colab-df-container\">\n",
              "      <div>\n",
              "<style scoped>\n",
              "    .dataframe tbody tr th:only-of-type {\n",
              "        vertical-align: middle;\n",
              "    }\n",
              "\n",
              "    .dataframe tbody tr th {\n",
              "        vertical-align: top;\n",
              "    }\n",
              "\n",
              "    .dataframe thead th {\n",
              "        text-align: right;\n",
              "    }\n",
              "</style>\n",
              "<table border=\"1\" class=\"dataframe\">\n",
              "  <thead>\n",
              "    <tr style=\"text-align: right;\">\n",
              "      <th></th>\n",
              "      <th>PSA</th>\n",
              "      <th>TCC</th>\n",
              "      <th>ECLECTICO</th>\n",
              "      <th>SISTEMICA</th>\n",
              "    </tr>\n",
              "  </thead>\n",
              "  <tbody>\n",
              "    <tr>\n",
              "      <th>apertura_terapias_desarrolladas_por_investigadores</th>\n",
              "      <td>4.22</td>\n",
              "      <td>5.87</td>\n",
              "      <td>6.12</td>\n",
              "      <td>6.4</td>\n",
              "    </tr>\n",
              "    <tr>\n",
              "      <th>nueva_terapia_intento</th>\n",
              "      <td>4.04</td>\n",
              "      <td>4.66</td>\n",
              "      <td>4.56</td>\n",
              "      <td>3.0</td>\n",
              "    </tr>\n",
              "    <tr>\n",
              "      <th>terapia_manualizada</th>\n",
              "      <td>4.38</td>\n",
              "      <td>2.99</td>\n",
              "      <td>4.50</td>\n",
              "      <td>4.4</td>\n",
              "    </tr>\n",
              "    <tr>\n",
              "      <th>diagnosticos_utilizados_son_simples</th>\n",
              "      <td>3.49</td>\n",
              "      <td>3.70</td>\n",
              "      <td>4.25</td>\n",
              "      <td>2.3</td>\n",
              "    </tr>\n",
              "    <tr>\n",
              "      <th>tratamientos_preferencia_no_probados_ensayo_controlado</th>\n",
              "      <td>3.31</td>\n",
              "      <td>1.63</td>\n",
              "      <td>2.44</td>\n",
              "      <td>2.2</td>\n",
              "    </tr>\n",
              "    <tr>\n",
              "      <th>enfoque_tratamiento_individual</th>\n",
              "      <td>5.36</td>\n",
              "      <td>4.87</td>\n",
              "      <td>5.81</td>\n",
              "      <td>3.9</td>\n",
              "    </tr>\n",
              "    <tr>\n",
              "      <th>alianza_terapeutica_mas_importante</th>\n",
              "      <td>3.71</td>\n",
              "      <td>3.13</td>\n",
              "      <td>4.69</td>\n",
              "      <td>4.9</td>\n",
              "    </tr>\n",
              "    <tr>\n",
              "      <th>terapias_igualmente_efectivas</th>\n",
              "      <td>3.13</td>\n",
              "      <td>1.55</td>\n",
              "      <td>2.75</td>\n",
              "      <td>3.0</td>\n",
              "    </tr>\n",
              "    <tr>\n",
              "      <th>exp_clinica_+imp_que_evidencia_cientifica</th>\n",
              "      <td>4.82</td>\n",
              "      <td>2.60</td>\n",
              "      <td>4.38</td>\n",
              "      <td>3.0</td>\n",
              "    </tr>\n",
              "    <tr>\n",
              "      <th>actualizacion_info_cientifica</th>\n",
              "      <td>3.64</td>\n",
              "      <td>5.83</td>\n",
              "      <td>5.44</td>\n",
              "      <td>4.8</td>\n",
              "    </tr>\n",
              "    <tr>\n",
              "      <th>formacion_enfasis_investigacion</th>\n",
              "      <td>2.91</td>\n",
              "      <td>5.20</td>\n",
              "      <td>3.94</td>\n",
              "      <td>4.2</td>\n",
              "    </tr>\n",
              "    <tr>\n",
              "      <th>supervisores_terapia_evidencia_requerimiento</th>\n",
              "      <td>1.60</td>\n",
              "      <td>4.97</td>\n",
              "      <td>3.69</td>\n",
              "      <td>6.0</td>\n",
              "    </tr>\n",
              "    <tr>\n",
              "      <th>atraer_consultantes_con_tbe</th>\n",
              "      <td>2.38</td>\n",
              "      <td>5.39</td>\n",
              "      <td>4.62</td>\n",
              "      <td>4.3</td>\n",
              "    </tr>\n",
              "    <tr>\n",
              "      <th>hallazgos_cientificos_practica_diaria</th>\n",
              "      <td>3.69</td>\n",
              "      <td>6.18</td>\n",
              "      <td>5.50</td>\n",
              "      <td>6.4</td>\n",
              "    </tr>\n",
              "    <tr>\n",
              "      <th>interes_aprender_tbe</th>\n",
              "      <td>3.33</td>\n",
              "      <td>6.25</td>\n",
              "      <td>5.69</td>\n",
              "      <td>5.6</td>\n",
              "    </tr>\n",
              "    <tr>\n",
              "      <th>tratamientos_utilizados_base_empirica</th>\n",
              "      <td>3.51</td>\n",
              "      <td>6.33</td>\n",
              "      <td>4.56</td>\n",
              "      <td>6.7</td>\n",
              "    </tr>\n",
              "    <tr>\n",
              "      <th>complejidad_consultantes_ensayos_clinicos</th>\n",
              "      <td>3.87</td>\n",
              "      <td>5.06</td>\n",
              "      <td>5.12</td>\n",
              "      <td>4.2</td>\n",
              "    </tr>\n",
              "    <tr>\n",
              "      <th>consultantes_prefieren_otros_tratamientos</th>\n",
              "      <td>2.71</td>\n",
              "      <td>2.77</td>\n",
              "      <td>3.31</td>\n",
              "      <td>2.8</td>\n",
              "    </tr>\n",
              "    <tr>\n",
              "      <th>no_tiempo_aprender_tbe</th>\n",
              "      <td>1.16</td>\n",
              "      <td>1.86</td>\n",
              "      <td>2.31</td>\n",
              "      <td>3.1</td>\n",
              "    </tr>\n",
              "    <tr>\n",
              "      <th>capacitacion_tbe_demasiado_dinero</th>\n",
              "      <td>1.78</td>\n",
              "      <td>4.35</td>\n",
              "      <td>3.88</td>\n",
              "      <td>4.6</td>\n",
              "    </tr>\n",
              "    <tr>\n",
              "      <th>no_saber_tbe</th>\n",
              "      <td>1.71</td>\n",
              "      <td>1.37</td>\n",
              "      <td>2.19</td>\n",
              "      <td>2.2</td>\n",
              "    </tr>\n",
              "    <tr>\n",
              "      <th>entrenamiento_clinico_no_info_tbe</th>\n",
              "      <td>2.60</td>\n",
              "      <td>3.40</td>\n",
              "      <td>3.88</td>\n",
              "      <td>2.4</td>\n",
              "    </tr>\n",
              "    <tr>\n",
              "      <th>empleador_no_fondos_capacitacion_tbe</th>\n",
              "      <td>1.71</td>\n",
              "      <td>2.72</td>\n",
              "      <td>2.50</td>\n",
              "      <td>4.6</td>\n",
              "    </tr>\n",
              "  </tbody>\n",
              "</table>\n",
              "</div>\n",
              "      <button class=\"colab-df-convert\" onclick=\"convertToInteractive('df-3c05b5ed-77da-4dd7-bdb6-8dfb75ad0876')\"\n",
              "              title=\"Convert this dataframe to an interactive table.\"\n",
              "              style=\"display:none;\">\n",
              "        \n",
              "  <svg xmlns=\"http://www.w3.org/2000/svg\" height=\"24px\"viewBox=\"0 0 24 24\"\n",
              "       width=\"24px\">\n",
              "    <path d=\"M0 0h24v24H0V0z\" fill=\"none\"/>\n",
              "    <path d=\"M18.56 5.44l.94 2.06.94-2.06 2.06-.94-2.06-.94-.94-2.06-.94 2.06-2.06.94zm-11 1L8.5 8.5l.94-2.06 2.06-.94-2.06-.94L8.5 2.5l-.94 2.06-2.06.94zm10 10l.94 2.06.94-2.06 2.06-.94-2.06-.94-.94-2.06-.94 2.06-2.06.94z\"/><path d=\"M17.41 7.96l-1.37-1.37c-.4-.4-.92-.59-1.43-.59-.52 0-1.04.2-1.43.59L10.3 9.45l-7.72 7.72c-.78.78-.78 2.05 0 2.83L4 21.41c.39.39.9.59 1.41.59.51 0 1.02-.2 1.41-.59l7.78-7.78 2.81-2.81c.8-.78.8-2.07 0-2.86zM5.41 20L4 18.59l7.72-7.72 1.47 1.35L5.41 20z\"/>\n",
              "  </svg>\n",
              "      </button>\n",
              "      \n",
              "  <style>\n",
              "    .colab-df-container {\n",
              "      display:flex;\n",
              "      flex-wrap:wrap;\n",
              "      gap: 12px;\n",
              "    }\n",
              "\n",
              "    .colab-df-convert {\n",
              "      background-color: #E8F0FE;\n",
              "      border: none;\n",
              "      border-radius: 50%;\n",
              "      cursor: pointer;\n",
              "      display: none;\n",
              "      fill: #1967D2;\n",
              "      height: 32px;\n",
              "      padding: 0 0 0 0;\n",
              "      width: 32px;\n",
              "    }\n",
              "\n",
              "    .colab-df-convert:hover {\n",
              "      background-color: #E2EBFA;\n",
              "      box-shadow: 0px 1px 2px rgba(60, 64, 67, 0.3), 0px 1px 3px 1px rgba(60, 64, 67, 0.15);\n",
              "      fill: #174EA6;\n",
              "    }\n",
              "\n",
              "    [theme=dark] .colab-df-convert {\n",
              "      background-color: #3B4455;\n",
              "      fill: #D2E3FC;\n",
              "    }\n",
              "\n",
              "    [theme=dark] .colab-df-convert:hover {\n",
              "      background-color: #434B5C;\n",
              "      box-shadow: 0px 1px 3px 1px rgba(0, 0, 0, 0.15);\n",
              "      filter: drop-shadow(0px 1px 2px rgba(0, 0, 0, 0.3));\n",
              "      fill: #FFFFFF;\n",
              "    }\n",
              "  </style>\n",
              "\n",
              "      <script>\n",
              "        const buttonEl =\n",
              "          document.querySelector('#df-3c05b5ed-77da-4dd7-bdb6-8dfb75ad0876 button.colab-df-convert');\n",
              "        buttonEl.style.display =\n",
              "          google.colab.kernel.accessAllowed ? 'block' : 'none';\n",
              "\n",
              "        async function convertToInteractive(key) {\n",
              "          const element = document.querySelector('#df-3c05b5ed-77da-4dd7-bdb6-8dfb75ad0876');\n",
              "          const dataTable =\n",
              "            await google.colab.kernel.invokeFunction('convertToInteractive',\n",
              "                                                     [key], {});\n",
              "          if (!dataTable) return;\n",
              "\n",
              "          const docLinkHtml = 'Like what you see? Visit the ' +\n",
              "            '<a target=\"_blank\" href=https://colab.research.google.com/notebooks/data_table.ipynb>data table notebook</a>'\n",
              "            + ' to learn more about interactive tables.';\n",
              "          element.innerHTML = '';\n",
              "          dataTable['output_type'] = 'display_data';\n",
              "          await google.colab.output.renderOutput(dataTable, element);\n",
              "          const docLink = document.createElement('div');\n",
              "          docLink.innerHTML = docLinkHtml;\n",
              "          element.appendChild(docLink);\n",
              "        }\n",
              "      </script>\n",
              "    </div>\n",
              "  </div>\n",
              "  "
            ]
          },
          "metadata": {},
          "execution_count": 52
        }
      ]
    },
    {
      "cell_type": "code",
      "source": [
        "ax = df4.plot(kind='barh', figsize=(15,15), width=0.8)\n",
        "\n",
        "ax.set_xlabel('Puntaje')\n",
        "ax.set_ylabel('Variables')\n",
        "ax.set_title('Frases a Valorar')\n",
        "plt.show()"
      ],
      "metadata": {
        "colab": {
          "base_uri": "https://localhost:8080/",
          "height": 696
        },
        "id": "LPCFy7ekbr2j",
        "outputId": "54a2bfb9-9be4-460b-e9ef-e87638b38e3e"
      },
      "execution_count": null,
      "outputs": [
        {
          "output_type": "display_data",
          "data": {
            "text/plain": [
              "<Figure size 1500x1500 with 1 Axes>"
            ],
            "image/png": "[encoded data removed]"
          },
          "metadata": {}
        }
      ]
    },
    {
      "cell_type": "markdown",
      "source": [
        "## Consentimiento Informado"
      ],
      "metadata": {
        "id": "Y08ynN3igJ3q"
      }
    },
    {
      "cell_type": "code",
      "source": [
        "ci_psa = psa['consentimiento_informado'].mean()\n",
        "ci_tcc = tcc['consentimiento_informado'].mean()\n",
        "ci_eclectico = eclectico['consentimiento_informado'].mean()\n",
        "ci_sist = sist['consentimiento_informado'].mean()\n",
        "\n",
        "print('CI PSA:',ci_psa)\n",
        "print('CI TCC:',ci_tcc)\n",
        "print('CI ELECTICO:',ci_eclectico)\n",
        "print('CI SISTEMICA:',ci_sist)"
      ],
      "metadata": {
        "id": "uK5Ec9y2gLuC",
        "colab": {
          "base_uri": "https://localhost:8080/"
        },
        "outputId": "cd27f6f7-b9d2-4f5c-cd0a-73dc163f4508"
      },
      "execution_count": null,
      "outputs": [
        {
          "output_type": "stream",
          "name": "stdout",
          "text": [
            "CI PSA: 5.928571428571429\n",
            "CI TCC: 6.075\n",
            "CI ELECTICO: 5.538461538461538\n",
            "CI SISTEMICA: 6.6\n"
          ]
        }
      ]
    },
    {
      "cell_type": "markdown",
      "source": [
        "# ANÁLISIS ESTADÍSTICO"
      ],
      "metadata": {
        "id": "KxDYW04LYGX-"
      }
    },
    {
      "cell_type": "code",
      "source": [],
      "metadata": {
        "id": "7VKR_DzujTuI"
      },
      "execution_count": null,
      "outputs": []
    }
  ]
}